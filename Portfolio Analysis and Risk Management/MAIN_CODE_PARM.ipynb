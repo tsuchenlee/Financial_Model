{
 "cells": [
  {
   "cell_type": "markdown",
   "id": "a995c6fd",
   "metadata": {
    "toc": true
   },
   "source": [
    "<h1>Table of Contents<span class=\"tocSkip\"></span></h1>\n",
    "<div class=\"toc\"><ul class=\"toc-item\"></ul></div>"
   ]
  },
  {
   "cell_type": "code",
   "execution_count": 1,
   "id": "64f8f0d9",
   "metadata": {},
   "outputs": [],
   "source": [
    "import matplotlib\n",
    "import pandas as pd\n",
    "import numpy as np\n",
    "import cvxpy as cp\n",
    "from cvxopt import matrix, solvers\n",
    "import pickle\n",
    "import matplotlib.pyplot as plt\n",
    "import os\n",
    "from tqdm import tqdm\n",
    "from colorama import Fore\n",
    "from ipynb.fs.full.config import RISK_FREE_RATE, DATAPATH, EXPECTED_RETURN, STOCKS_NUMBER, MONTO_CARLO_TIMES"
   ]
  },
  {
   "cell_type": "code",
   "execution_count": 4,
   "id": "305f0049",
   "metadata": {},
   "outputs": [
    {
     "name": "stderr",
     "output_type": "stream",
     "text": [
      "Computing20170703--20220630weights: 100%|\u001b[34m██████\u001b[39m| 10/10 [00:00<00:00, 100.55it/s]\u001b[0m\n"
     ]
    },
    {
     "name": "stdout",
     "output_type": "stream",
     "text": [
      "\u001b[0;36;m Initial Calculation of Portfolio Weights Using the Strategy：\u001b[0m \u001b[0;34;m Markowitz Portfolio \u001b[0m\n",
      "\u001b[0;36;m Complete Markowitz Portfolio Optimal Weight Quadratic Programming Solution with the Minimum Variance Value：\u001b[0m \u001b[0;34;m 1.6140103280698902e-05 \u001b[0m\n",
      "\u001b[0;36;m Initial Calculation of Portfolio Weights Using the Strategy：\u001b[0m \u001b[0;34;m Markowitz Portfolio \u001b[0m\n",
      "\u001b[0;36;m Complete Markowitz Portfolio Optimal Weight Quadratic Programming Solution with the Minimum Variance Value：\u001b[0m \u001b[0;34;m 1.7554799857823897e-05 \u001b[0m\n",
      "\u001b[0;36;m Initial Calculation of Portfolio Weights Using the Strategy：\u001b[0m \u001b[0;34;m Markowitz Portfolio \u001b[0m\n",
      "\u001b[0;36;m Complete Markowitz Portfolio Optimal Weight Quadratic Programming Solution with the Minimum Variance Value：\u001b[0m \u001b[0;34;m 1.8121360561215513e-05 \u001b[0m\n",
      "\u001b[0;36;m Initial Calculation of Portfolio Weights Using the Strategy：\u001b[0m \u001b[0;34;m Markowitz Portfolio \u001b[0m\n",
      "\u001b[0;36;m Complete Markowitz Portfolio Optimal Weight Quadratic Programming Solution with the Minimum Variance Value：\u001b[0m \u001b[0;34;m 1.7516747025799126e-05 \u001b[0m\n",
      "\u001b[0;36;m Initial Calculation of Portfolio Weights Using the Strategy：\u001b[0m \u001b[0;34;m Markowitz Portfolio \u001b[0m\n",
      "\u001b[0;36;m Complete Markowitz Portfolio Optimal Weight Quadratic Programming Solution with the Minimum Variance Value：\u001b[0m \u001b[0;34;m 1.599903244735453e-05 \u001b[0m\n",
      "\u001b[0;36;m Initial Calculation of Portfolio Weights Using the Strategy：\u001b[0m \u001b[0;34;m Markowitz Portfolio \u001b[0m\n",
      "\u001b[0;36;m Complete Markowitz Portfolio Optimal Weight Quadratic Programming Solution with the Minimum Variance Value：\u001b[0m \u001b[0;34;m 1.6822794284503603e-05 \u001b[0m\n",
      "\u001b[0;36;m Initial Calculation of Portfolio Weights Using the Strategy：\u001b[0m \u001b[0;34;m Markowitz Portfolio \u001b[0m\n",
      "\u001b[0;36;m Complete Markowitz Portfolio Optimal Weight Quadratic Programming Solution with the Minimum Variance Value：\u001b[0m \u001b[0;34;m 5.5489633494808975e-06 \u001b[0m\n",
      "\u001b[0;36;m Initial Calculation of Portfolio Weights Using the Strategy：\u001b[0m \u001b[0;34;m Markowitz Portfolio \u001b[0m\n",
      "\u001b[0;36;m Complete Markowitz Portfolio Optimal Weight Quadratic Programming Solution with the Minimum Variance Value：\u001b[0m \u001b[0;34;m 2.220033072106568e-06 \u001b[0m\n",
      "\u001b[0;36;m Initial Calculation of Portfolio Weights Using the Strategy：\u001b[0m \u001b[0;34;m Markowitz Portfolio \u001b[0m\n",
      "\u001b[0;36;m Complete Markowitz Portfolio Optimal Weight Quadratic Programming Solution with the Minimum Variance Value：\u001b[0m \u001b[0;34;m 2.0395733109579852e-06 \u001b[0m\n",
      "\u001b[0;36;m Initial Calculation of Portfolio Weights Using the Strategy：\u001b[0m \u001b[0;34;m Markowitz Portfolio \u001b[0m\n",
      "\u001b[0;36;m Complete Markowitz Portfolio Optimal Weight Quadratic Programming Solution with the Minimum Variance Value：\u001b[0m \u001b[0;34;m 2.6455799764530944e-06 \u001b[0m\n",
      "\u001b[0;36;m weight save completed \u001b[0m\n"
     ]
    },
    {
     "name": "stderr",
     "output_type": "stream",
     "text": [
      "Computing20130102--20171229weights:   0%|\u001b[34m                \u001b[39m| 0/10 [00:00<?, ?it/s]\u001b[0m"
     ]
    },
    {
     "name": "stdout",
     "output_type": "stream",
     "text": [
      "\u001b[0;36;m Start Calculation of Portfolio Weights Using the Strategy：\u001b[0m \u001b[0;34;m Monto Carlo Solve for the Maximum Sharpe Ratio \u001b[0m\n"
     ]
    },
    {
     "name": "stderr",
     "output_type": "stream",
     "text": [
      "\n",
      "  0%|\u001b[34m                                                 \u001b[39m| 0/50000 [00:00<?, ?it/s]\u001b[0m\u001b[A\n",
      "  7%|\u001b[34m██▎                                \u001b[39m| 3260/50000 [00:00<00:01, 32599.10it/s]\u001b[0m\u001b[A\n",
      " 15%|\u001b[34m█████▏                             \u001b[39m| 7477/50000 [00:00<00:01, 38227.60it/s]\u001b[0m\u001b[A\n",
      " 23%|\u001b[34m███████▉                          \u001b[39m| 11627/50000 [00:00<00:00, 39721.09it/s]\u001b[0m\u001b[A\n",
      " 31%|\u001b[34m██████████▌                       \u001b[39m| 15600/50000 [00:00<00:00, 38598.97it/s]\u001b[0m\u001b[A\n",
      " 39%|\u001b[34m█████████████▏                    \u001b[39m| 19465/50000 [00:00<00:00, 37043.82it/s]\u001b[0m\u001b[A\n",
      " 46%|\u001b[34m███████████████▊                  \u001b[39m| 23181/50000 [00:00<00:00, 36192.16it/s]\u001b[0m\u001b[A\n",
      " 54%|\u001b[34m██████████████████▍               \u001b[39m| 27094/50000 [00:00<00:00, 37109.51it/s]\u001b[0m\u001b[A\n",
      " 64%|\u001b[34m█████████████████████▊            \u001b[39m| 32015/50000 [00:00<00:00, 40845.46it/s]\u001b[0m\u001b[A\n",
      " 72%|\u001b[34m████████████████████████▌         \u001b[39m| 36118/50000 [00:00<00:00, 38682.57it/s]\u001b[0m\u001b[A\n",
      " 80%|\u001b[34m███████████████████████████▏      \u001b[39m| 40019/50000 [00:01<00:00, 38328.86it/s]\u001b[0m\u001b[A\n",
      " 88%|\u001b[34m█████████████████████████████▊    \u001b[39m| 43873/50000 [00:01<00:00, 37244.39it/s]\u001b[0m\u001b[A\n",
      "100%|\u001b[34m██████████████████████████████████\u001b[39m| 50000/50000 [00:01<00:00, 37347.85it/s]\u001b[0m\u001b[A\n",
      "/var/folders/xb/n8vz2nsx6xv6l4kn_m4mzkf40000gn/T/ipykernel_16828/167817763.py:147: RuntimeWarning: More than 20 figures have been opened. Figures created through the pyplot interface (`matplotlib.pyplot.figure`) are retained until explicitly closed and may consume too much memory. (To control this warning, see the rcParam `figure.max_open_warning`).\n",
      "  plt.figure(figsize=(8, 6))\n"
     ]
    },
    {
     "name": "stdout",
     "output_type": "stream",
     "text": [
      "\u001b[0;36;m finished Monto Carlo Strategy Weight Computation \u001b[0m\n"
     ]
    },
    {
     "name": "stderr",
     "output_type": "stream",
     "text": [
      "Computing20130701--20180629weights:  10%|\u001b[34m▊       \u001b[39m| 1/10 [00:04<00:38,  4.33s/it]\u001b[0m"
     ]
    },
    {
     "name": "stdout",
     "output_type": "stream",
     "text": [
      "\u001b[0;36;m Complete Capital Market Line Plotting. \u001b[0m\n",
      "\u001b[0;36;m Start Calculation of Portfolio Weights Using the Strategy：\u001b[0m \u001b[0;34;m Monto Carlo Solve for the Maximum Sharpe Ratio \u001b[0m\n"
     ]
    },
    {
     "name": "stderr",
     "output_type": "stream",
     "text": [
      "\n",
      "  0%|\u001b[34m                                                 \u001b[39m| 0/50000 [00:00<?, ?it/s]\u001b[0m\u001b[A\n",
      "  8%|\u001b[34m██▊                                \u001b[39m| 4072/50000 [00:00<00:01, 40718.00it/s]\u001b[0m\u001b[A\n",
      " 16%|\u001b[34m█████▋                             \u001b[39m| 8144/50000 [00:00<00:01, 39802.35it/s]\u001b[0m\u001b[A\n",
      " 24%|\u001b[34m████████▎                         \u001b[39m| 12158/50000 [00:00<00:00, 39952.10it/s]\u001b[0m\u001b[A\n",
      " 32%|\u001b[34m██████████▉                       \u001b[39m| 16155/50000 [00:00<00:00, 38646.47it/s]\u001b[0m\u001b[A\n",
      " 40%|\u001b[34m█████████████▌                    \u001b[39m| 20026/50000 [00:00<00:00, 37877.27it/s]\u001b[0m\u001b[A\n",
      " 48%|\u001b[34m████████████████▏                 \u001b[39m| 23819/50000 [00:00<00:00, 37418.23it/s]\u001b[0m\u001b[A\n",
      " 55%|\u001b[34m██████████████████▋               \u001b[39m| 27564/50000 [00:00<00:00, 37213.62it/s]\u001b[0m\u001b[A\n",
      " 63%|\u001b[34m█████████████████████▎            \u001b[39m| 31287/50000 [00:00<00:00, 37024.22it/s]\u001b[0m\u001b[A\n",
      " 70%|\u001b[34m███████████████████████▊          \u001b[39m| 34991/50000 [00:00<00:00, 36941.71it/s]\u001b[0m\u001b[A\n",
      " 77%|\u001b[34m██████████████████████████▎       \u001b[39m| 38686/50000 [00:01<00:00, 36839.67it/s]\u001b[0m\u001b[A\n",
      " 85%|\u001b[34m████████████████████████████▊     \u001b[39m| 42372/50000 [00:01<00:00, 36844.15it/s]\u001b[0m\u001b[A\n",
      " 92%|\u001b[34m███████████████████████████████▎  \u001b[39m| 46057/50000 [00:01<00:00, 36818.80it/s]\u001b[0m\u001b[A\n",
      "100%|\u001b[34m██████████████████████████████████\u001b[39m| 50000/50000 [00:01<00:00, 37413.39it/s]\u001b[0m\u001b[A\n"
     ]
    },
    {
     "name": "stdout",
     "output_type": "stream",
     "text": [
      "\u001b[0;36;m finished Monto Carlo Strategy Weight Computation \u001b[0m\n"
     ]
    },
    {
     "name": "stderr",
     "output_type": "stream",
     "text": [
      "Computing20140102--20181231weights:  20%|\u001b[34m█▌      \u001b[39m| 2/10 [00:08<00:34,  4.31s/it]\u001b[0m"
     ]
    },
    {
     "name": "stdout",
     "output_type": "stream",
     "text": [
      "\u001b[0;36;m Complete Capital Market Line Plotting. \u001b[0m\n",
      "\u001b[0;36;m Start Calculation of Portfolio Weights Using the Strategy：\u001b[0m \u001b[0;34;m Monto Carlo Solve for the Maximum Sharpe Ratio \u001b[0m\n"
     ]
    },
    {
     "name": "stderr",
     "output_type": "stream",
     "text": [
      "\n",
      "  0%|\u001b[34m                                                 \u001b[39m| 0/50000 [00:00<?, ?it/s]\u001b[0m\u001b[A\n",
      "  8%|\u001b[34m██▊                                \u001b[39m| 3981/50000 [00:00<00:01, 39809.18it/s]\u001b[0m\u001b[A\n",
      " 16%|\u001b[34m█████▌                             \u001b[39m| 7962/50000 [00:00<00:01, 38351.39it/s]\u001b[0m\u001b[A\n",
      " 24%|\u001b[34m████████▏                         \u001b[39m| 11970/50000 [00:00<00:00, 39123.53it/s]\u001b[0m\u001b[A\n",
      " 32%|\u001b[34m██████████▊                       \u001b[39m| 15886/50000 [00:00<00:00, 38068.29it/s]\u001b[0m\u001b[A\n",
      " 41%|\u001b[34m█████████████▊                    \u001b[39m| 20388/50000 [00:00<00:00, 40508.30it/s]\u001b[0m\u001b[A\n",
      " 49%|\u001b[34m████████████████▋                 \u001b[39m| 24449/50000 [00:00<00:00, 39161.90it/s]\u001b[0m\u001b[A\n",
      " 57%|\u001b[34m███████████████████▎              \u001b[39m| 28378/50000 [00:00<00:00, 38400.69it/s]\u001b[0m\u001b[A\n",
      " 64%|\u001b[34m█████████████████████▉            \u001b[39m| 32228/50000 [00:00<00:00, 37843.55it/s]\u001b[0m\u001b[A\n",
      " 72%|\u001b[34m████████████████████████▍         \u001b[39m| 36019/50000 [00:00<00:00, 37412.08it/s]\u001b[0m\u001b[A\n",
      " 80%|\u001b[34m███████████████████████████       \u001b[39m| 39764/50000 [00:01<00:00, 37070.19it/s]\u001b[0m\u001b[A\n",
      " 87%|\u001b[34m█████████████████████████████▌    \u001b[39m| 43474/50000 [00:01<00:00, 36872.85it/s]\u001b[0m\u001b[A\n",
      "100%|\u001b[34m██████████████████████████████████\u001b[39m| 50000/50000 [00:01<00:00, 38690.64it/s]\u001b[0m\u001b[A\n"
     ]
    },
    {
     "name": "stdout",
     "output_type": "stream",
     "text": [
      "\u001b[0;36;m finished Monto Carlo Strategy Weight Computation \u001b[0m\n"
     ]
    },
    {
     "name": "stderr",
     "output_type": "stream",
     "text": [
      "Computing20140701--20190628weights:  30%|\u001b[34m██▍     \u001b[39m| 3/10 [00:12<00:29,  4.28s/it]\u001b[0m"
     ]
    },
    {
     "name": "stdout",
     "output_type": "stream",
     "text": [
      "\u001b[0;36;m Complete Capital Market Line Plotting. \u001b[0m\n",
      "\u001b[0;36;m Start Calculation of Portfolio Weights Using the Strategy：\u001b[0m \u001b[0;34;m Monto Carlo Solve for the Maximum Sharpe Ratio \u001b[0m\n"
     ]
    },
    {
     "name": "stderr",
     "output_type": "stream",
     "text": [
      "\n",
      "  0%|\u001b[34m                                                 \u001b[39m| 0/50000 [00:00<?, ?it/s]\u001b[0m\u001b[A\n",
      "  8%|\u001b[34m██▊                                \u001b[39m| 4022/50000 [00:00<00:01, 40217.93it/s]\u001b[0m\u001b[A\n",
      " 17%|\u001b[34m█████▊                             \u001b[39m| 8320/50000 [00:00<00:00, 41834.80it/s]\u001b[0m\u001b[A\n",
      " 25%|\u001b[34m████████▌                         \u001b[39m| 12504/50000 [00:00<00:00, 41247.97it/s]\u001b[0m\u001b[A\n",
      " 33%|\u001b[34m███████████▎                      \u001b[39m| 16630/50000 [00:00<00:00, 39313.98it/s]\u001b[0m\u001b[A\n",
      " 41%|\u001b[34m█████████████▉                    \u001b[39m| 20574/50000 [00:00<00:00, 38495.75it/s]\u001b[0m\u001b[A\n",
      " 50%|\u001b[34m████████████████▊                 \u001b[39m| 24797/50000 [00:00<00:00, 39715.24it/s]\u001b[0m\u001b[A\n",
      " 58%|\u001b[34m███████████████████▋              \u001b[39m| 28945/50000 [00:00<00:00, 40274.61it/s]\u001b[0m\u001b[A\n",
      " 66%|\u001b[34m██████████████████████▍           \u001b[39m| 32981/50000 [00:00<00:00, 40245.80it/s]\u001b[0m\u001b[A\n",
      " 74%|\u001b[34m█████████████████████████▏        \u001b[39m| 37012/50000 [00:00<00:00, 39180.11it/s]\u001b[0m\u001b[A\n",
      " 82%|\u001b[34m███████████████████████████▊      \u001b[39m| 40939/50000 [00:01<00:00, 38775.42it/s]\u001b[0m\u001b[A\n",
      " 90%|\u001b[34m██████████████████████████████▍   \u001b[39m| 44823/50000 [00:01<00:00, 38129.86it/s]\u001b[0m\u001b[A\n",
      "100%|\u001b[34m██████████████████████████████████\u001b[39m| 50000/50000 [00:01<00:00, 39396.78it/s]\u001b[0m\u001b[A\n"
     ]
    },
    {
     "name": "stdout",
     "output_type": "stream",
     "text": [
      "\u001b[0;36;m finished Monto Carlo Strategy Weight Computation \u001b[0m\n"
     ]
    },
    {
     "name": "stderr",
     "output_type": "stream",
     "text": [
      "Computing20150102--20191231weights:  40%|\u001b[34m███▏    \u001b[39m| 4/10 [00:17<00:25,  4.32s/it]\u001b[0m"
     ]
    },
    {
     "name": "stdout",
     "output_type": "stream",
     "text": [
      "\u001b[0;36;m Complete Capital Market Line Plotting. \u001b[0m\n",
      "\u001b[0;36;m Start Calculation of Portfolio Weights Using the Strategy：\u001b[0m \u001b[0;34;m Monto Carlo Solve for the Maximum Sharpe Ratio \u001b[0m\n"
     ]
    },
    {
     "name": "stderr",
     "output_type": "stream",
     "text": [
      "\n",
      "  0%|\u001b[34m                                                 \u001b[39m| 0/50000 [00:00<?, ?it/s]\u001b[0m\u001b[A\n",
      "  8%|\u001b[34m██▋                                \u001b[39m| 3917/50000 [00:00<00:01, 39166.49it/s]\u001b[0m\u001b[A\n",
      " 17%|\u001b[34m█████▊                             \u001b[39m| 8266/50000 [00:00<00:01, 41701.82it/s]\u001b[0m\u001b[A\n",
      " 25%|\u001b[34m████████▍                         \u001b[39m| 12437/50000 [00:00<00:00, 37885.94it/s]\u001b[0m\u001b[A\n",
      " 34%|\u001b[34m███████████▌                      \u001b[39m| 17012/50000 [00:00<00:00, 40809.99it/s]\u001b[0m\u001b[A\n",
      " 42%|\u001b[34m██████████████▎                   \u001b[39m| 21134/50000 [00:00<00:00, 39418.50it/s]\u001b[0m\u001b[A\n",
      " 50%|\u001b[34m█████████████████                 \u001b[39m| 25106/50000 [00:00<00:00, 38515.65it/s]\u001b[0m\u001b[A\n",
      " 58%|\u001b[34m███████████████████▋              \u001b[39m| 28978/50000 [00:00<00:00, 37930.40it/s]\u001b[0m\u001b[A\n",
      " 68%|\u001b[34m███████████████████████▏          \u001b[39m| 34107/50000 [00:00<00:00, 41984.14it/s]\u001b[0m\u001b[A\n",
      " 77%|\u001b[34m██████████████████████████        \u001b[39m| 38334/50000 [00:00<00:00, 40590.56it/s]\u001b[0m\u001b[A\n",
      " 85%|\u001b[34m████████████████████████████▊     \u001b[39m| 42419/50000 [00:01<00:00, 39868.41it/s]\u001b[0m\u001b[A\n",
      "100%|\u001b[34m██████████████████████████████████\u001b[39m| 50000/50000 [00:01<00:00, 39272.92it/s]\u001b[0m\u001b[A\n"
     ]
    },
    {
     "name": "stdout",
     "output_type": "stream",
     "text": [
      "\u001b[0;36;m finished Monto Carlo Strategy Weight Computation \u001b[0m\n"
     ]
    },
    {
     "name": "stderr",
     "output_type": "stream",
     "text": [
      "Computing20150701--20200630weights:  50%|\u001b[34m████    \u001b[39m| 5/10 [00:21<00:21,  4.26s/it]\u001b[0m"
     ]
    },
    {
     "name": "stdout",
     "output_type": "stream",
     "text": [
      "\u001b[0;36;m Complete Capital Market Line Plotting. \u001b[0m\n",
      "\u001b[0;36;m Start Calculation of Portfolio Weights Using the Strategy：\u001b[0m \u001b[0;34;m Monto Carlo Solve for the Maximum Sharpe Ratio \u001b[0m\n"
     ]
    },
    {
     "name": "stderr",
     "output_type": "stream",
     "text": [
      "\n",
      "  0%|\u001b[34m                                                 \u001b[39m| 0/50000 [00:00<?, ?it/s]\u001b[0m\u001b[A\n",
      "  8%|\u001b[34m██▊                                \u001b[39m| 3989/50000 [00:00<00:01, 39882.43it/s]\u001b[0m\u001b[A\n",
      " 16%|\u001b[34m█████▋                             \u001b[39m| 8138/50000 [00:00<00:01, 40822.00it/s]\u001b[0m\u001b[A\n",
      " 24%|\u001b[34m████████▎                         \u001b[39m| 12221/50000 [00:00<00:00, 39173.39it/s]\u001b[0m\u001b[A\n",
      " 32%|\u001b[34m██████████▉                       \u001b[39m| 16146/50000 [00:00<00:00, 38273.99it/s]\u001b[0m\u001b[A\n",
      " 40%|\u001b[34m█████████████▌                    \u001b[39m| 19980/50000 [00:00<00:00, 37700.19it/s]\u001b[0m\u001b[A\n",
      " 48%|\u001b[34m████████████████▏                 \u001b[39m| 23754/50000 [00:00<00:00, 37354.33it/s]\u001b[0m\u001b[A\n",
      " 55%|\u001b[34m██████████████████▋               \u001b[39m| 27492/50000 [00:00<00:00, 36981.90it/s]\u001b[0m\u001b[A\n",
      " 62%|\u001b[34m█████████████████████▏            \u001b[39m| 31192/50000 [00:00<00:00, 36821.82it/s]\u001b[0m\u001b[A\n",
      " 70%|\u001b[34m███████████████████████▋          \u001b[39m| 34880/50000 [00:00<00:00, 36836.44it/s]\u001b[0m\u001b[A\n",
      " 77%|\u001b[34m██████████████████████████▏       \u001b[39m| 38564/50000 [00:01<00:00, 36734.64it/s]\u001b[0m\u001b[A\n",
      " 84%|\u001b[34m████████████████████████████▋     \u001b[39m| 42238/50000 [00:01<00:00, 36728.70it/s]\u001b[0m\u001b[A\n",
      "100%|\u001b[34m██████████████████████████████████\u001b[39m| 50000/50000 [00:01<00:00, 38064.39it/s]\u001b[0m\u001b[A\n"
     ]
    },
    {
     "name": "stdout",
     "output_type": "stream",
     "text": [
      "\u001b[0;36;m finished Monto Carlo Strategy Weight Computation \u001b[0m\n"
     ]
    },
    {
     "name": "stderr",
     "output_type": "stream",
     "text": [
      "Computing20160104--20201231weights:  60%|\u001b[34m████▊   \u001b[39m| 6/10 [00:25<00:17,  4.26s/it]\u001b[0m"
     ]
    },
    {
     "name": "stdout",
     "output_type": "stream",
     "text": [
      "\u001b[0;36;m Complete Capital Market Line Plotting. \u001b[0m\n",
      "\u001b[0;36;m Start Calculation of Portfolio Weights Using the Strategy：\u001b[0m \u001b[0;34;m Monto Carlo Solve for the Maximum Sharpe Ratio \u001b[0m\n"
     ]
    },
    {
     "name": "stderr",
     "output_type": "stream",
     "text": [
      "\n",
      "  0%|\u001b[34m                                                 \u001b[39m| 0/50000 [00:00<?, ?it/s]\u001b[0m\u001b[A\n",
      "  7%|\u001b[34m██▍                                \u001b[39m| 3406/50000 [00:00<00:01, 34056.22it/s]\u001b[0m\u001b[A\n",
      " 15%|\u001b[34m█████▎                             \u001b[39m| 7603/50000 [00:00<00:01, 38705.93it/s]\u001b[0m\u001b[A\n",
      " 24%|\u001b[34m████████                          \u001b[39m| 11835/50000 [00:00<00:00, 40353.28it/s]\u001b[0m\u001b[A\n",
      " 32%|\u001b[34m███████████                       \u001b[39m| 16242/50000 [00:00<00:00, 41817.43it/s]\u001b[0m\u001b[A\n",
      " 41%|\u001b[34m█████████████▉                    \u001b[39m| 20424/50000 [00:00<00:00, 41502.80it/s]\u001b[0m\u001b[A\n",
      " 49%|\u001b[34m████████████████▋                 \u001b[39m| 24575/50000 [00:00<00:00, 41148.22it/s]\u001b[0m\u001b[A\n",
      " 57%|\u001b[34m███████████████████▌              \u001b[39m| 28691/50000 [00:00<00:00, 39601.58it/s]\u001b[0m\u001b[A\n",
      " 65%|\u001b[34m██████████████████████▏           \u001b[39m| 32662/50000 [00:00<00:00, 38726.39it/s]\u001b[0m\u001b[A\n",
      " 73%|\u001b[34m████████████████████████▊         \u001b[39m| 36544/50000 [00:00<00:00, 38115.72it/s]\u001b[0m\u001b[A\n",
      " 81%|\u001b[34m███████████████████████████▍      \u001b[39m| 40362/50000 [00:01<00:00, 37617.70it/s]\u001b[0m\u001b[A\n",
      " 88%|\u001b[34m██████████████████████████████    \u001b[39m| 44128/50000 [00:01<00:00, 37328.39it/s]\u001b[0m\u001b[A\n",
      "100%|\u001b[34m██████████████████████████████████\u001b[39m| 50000/50000 [00:01<00:00, 38502.17it/s]\u001b[0m\u001b[A\n"
     ]
    },
    {
     "name": "stdout",
     "output_type": "stream",
     "text": [
      "\u001b[0;36;m finished Monto Carlo Strategy Weight Computation \u001b[0m\n"
     ]
    },
    {
     "name": "stderr",
     "output_type": "stream",
     "text": [
      "Computing20160701--20210630weights:  70%|\u001b[34m█████▌  \u001b[39m| 7/10 [00:29<00:12,  4.26s/it]\u001b[0m"
     ]
    },
    {
     "name": "stdout",
     "output_type": "stream",
     "text": [
      "\u001b[0;36;m Complete Capital Market Line Plotting. \u001b[0m\n",
      "\u001b[0;36;m Start Calculation of Portfolio Weights Using the Strategy：\u001b[0m \u001b[0;34;m Monto Carlo Solve for the Maximum Sharpe Ratio \u001b[0m\n"
     ]
    },
    {
     "name": "stderr",
     "output_type": "stream",
     "text": [
      "\n",
      "  0%|\u001b[34m                                                 \u001b[39m| 0/50000 [00:00<?, ?it/s]\u001b[0m\u001b[A\n",
      "  8%|\u001b[34m██▉                                \u001b[39m| 4247/50000 [00:00<00:01, 42462.75it/s]\u001b[0m\u001b[A\n",
      " 17%|\u001b[34m█████▉                             \u001b[39m| 8494/50000 [00:00<00:01, 40542.81it/s]\u001b[0m\u001b[A\n",
      " 26%|\u001b[34m████████▋                         \u001b[39m| 12828/50000 [00:00<00:00, 41783.62it/s]\u001b[0m\u001b[A\n",
      " 34%|\u001b[34m███████████▌                      \u001b[39m| 17013/50000 [00:00<00:00, 41262.22it/s]\u001b[0m\u001b[A\n",
      " 42%|\u001b[34m██████████████▍                   \u001b[39m| 21144/50000 [00:00<00:00, 40447.40it/s]\u001b[0m\u001b[A\n",
      " 50%|\u001b[34m█████████████████▏                \u001b[39m| 25193/50000 [00:00<00:00, 39164.38it/s]\u001b[0m\u001b[A\n",
      " 58%|\u001b[34m███████████████████▊              \u001b[39m| 29117/50000 [00:00<00:00, 38396.70it/s]\u001b[0m\u001b[A\n",
      " 66%|\u001b[34m██████████████████████▍           \u001b[39m| 32962/50000 [00:00<00:00, 37913.83it/s]\u001b[0m\u001b[A\n",
      " 74%|\u001b[34m████████████████████████▉         \u001b[39m| 36757/50000 [00:00<00:00, 37535.43it/s]\u001b[0m\u001b[A\n",
      " 81%|\u001b[34m███████████████████████████▌      \u001b[39m| 40513/50000 [00:01<00:00, 37015.62it/s]\u001b[0m\u001b[A\n",
      " 88%|\u001b[34m██████████████████████████████    \u001b[39m| 44216/50000 [00:01<00:00, 36902.11it/s]\u001b[0m\u001b[A\n",
      "100%|\u001b[34m██████████████████████████████████\u001b[39m| 50000/50000 [00:01<00:00, 38285.16it/s]\u001b[0m\u001b[A\n"
     ]
    },
    {
     "name": "stdout",
     "output_type": "stream",
     "text": [
      "\u001b[0;36;m finished Monto Carlo Strategy Weight Computation \u001b[0m\n"
     ]
    },
    {
     "name": "stderr",
     "output_type": "stream",
     "text": [
      "Computing20170103--20211231weights:  80%|\u001b[34m██████▍ \u001b[39m| 8/10 [00:34<00:08,  4.31s/it]\u001b[0m"
     ]
    },
    {
     "name": "stdout",
     "output_type": "stream",
     "text": [
      "\u001b[0;36;m Complete Capital Market Line Plotting. \u001b[0m\n",
      "\u001b[0;36;m Start Calculation of Portfolio Weights Using the Strategy：\u001b[0m \u001b[0;34;m Monto Carlo Solve for the Maximum Sharpe Ratio \u001b[0m\n"
     ]
    },
    {
     "name": "stderr",
     "output_type": "stream",
     "text": [
      "\n",
      "  0%|\u001b[34m                                                 \u001b[39m| 0/50000 [00:00<?, ?it/s]\u001b[0m\u001b[A\n",
      "  8%|\u001b[34m██▊                                \u001b[39m| 4035/50000 [00:00<00:01, 40343.59it/s]\u001b[0m\u001b[A\n",
      " 16%|\u001b[34m█████▊                             \u001b[39m| 8250/50000 [00:00<00:01, 41400.28it/s]\u001b[0m\u001b[A\n",
      " 25%|\u001b[34m████████▍                         \u001b[39m| 12391/50000 [00:00<00:00, 38423.48it/s]\u001b[0m\u001b[A\n",
      " 33%|\u001b[34m███████████                       \u001b[39m| 16257/50000 [00:00<00:00, 37727.58it/s]\u001b[0m\u001b[A\n",
      " 40%|\u001b[34m█████████████▋                    \u001b[39m| 20044/50000 [00:00<00:00, 37348.59it/s]\u001b[0m\u001b[A\n",
      " 48%|\u001b[34m████████████████▏                 \u001b[39m| 23787/50000 [00:00<00:00, 37207.66it/s]\u001b[0m\u001b[A\n",
      " 55%|\u001b[34m██████████████████▋               \u001b[39m| 27513/50000 [00:00<00:00, 37101.44it/s]\u001b[0m\u001b[A\n",
      " 63%|\u001b[34m█████████████████████▎            \u001b[39m| 31364/50000 [00:00<00:00, 37538.38it/s]\u001b[0m\u001b[A\n",
      " 70%|\u001b[34m███████████████████████▉          \u001b[39m| 35121/50000 [00:00<00:00, 37289.63it/s]\u001b[0m\u001b[A\n",
      " 78%|\u001b[34m██████████████████████████▍       \u001b[39m| 38958/50000 [00:01<00:00, 37616.84it/s]\u001b[0m\u001b[A\n",
      " 85%|\u001b[34m█████████████████████████████     \u001b[39m| 42722/50000 [00:01<00:00, 37372.58it/s]\u001b[0m\u001b[A\n",
      "100%|\u001b[34m██████████████████████████████████\u001b[39m| 50000/50000 [00:01<00:00, 37774.20it/s]\u001b[0m\u001b[A\n"
     ]
    },
    {
     "name": "stdout",
     "output_type": "stream",
     "text": [
      "\u001b[0;36;m finished Monto Carlo Strategy Weight Computation \u001b[0m\n"
     ]
    },
    {
     "name": "stderr",
     "output_type": "stream",
     "text": [
      "Computing20170703--20220630weights:  90%|\u001b[34m███████▏\u001b[39m| 9/10 [00:38<00:04,  4.34s/it]\u001b[0m"
     ]
    },
    {
     "name": "stdout",
     "output_type": "stream",
     "text": [
      "\u001b[0;36;m Complete Capital Market Line Plotting. \u001b[0m\n",
      "\u001b[0;36;m Start Calculation of Portfolio Weights Using the Strategy：\u001b[0m \u001b[0;34;m Monto Carlo Solve for the Maximum Sharpe Ratio \u001b[0m\n"
     ]
    },
    {
     "name": "stderr",
     "output_type": "stream",
     "text": [
      "\n",
      "  0%|\u001b[34m                                                 \u001b[39m| 0/50000 [00:00<?, ?it/s]\u001b[0m\u001b[A\n",
      "  8%|\u001b[34m██▉                                \u001b[39m| 4166/50000 [00:00<00:01, 41657.95it/s]\u001b[0m\u001b[A\n",
      " 17%|\u001b[34m█████▊                             \u001b[39m| 8332/50000 [00:00<00:01, 40276.54it/s]\u001b[0m\u001b[A\n",
      " 25%|\u001b[34m████████▍                         \u001b[39m| 12363/50000 [00:00<00:00, 39951.81it/s]\u001b[0m\u001b[A\n",
      " 33%|\u001b[34m███████████                       \u001b[39m| 16360/50000 [00:00<00:00, 38729.67it/s]\u001b[0m\u001b[A\n",
      " 40%|\u001b[34m█████████████▊                    \u001b[39m| 20238/50000 [00:00<00:00, 38041.18it/s]\u001b[0m\u001b[A\n",
      " 48%|\u001b[34m████████████████▍                 \u001b[39m| 24199/50000 [00:00<00:00, 38554.99it/s]\u001b[0m\u001b[A\n",
      " 57%|\u001b[34m███████████████████▍              \u001b[39m| 28625/50000 [00:00<00:00, 40376.89it/s]\u001b[0m\u001b[A\n",
      " 65%|\u001b[34m██████████████████████▏           \u001b[39m| 32670/50000 [00:00<00:00, 39248.30it/s]\u001b[0m\u001b[A\n",
      " 73%|\u001b[34m████████████████████████▉         \u001b[39m| 36605/50000 [00:00<00:00, 38572.21it/s]\u001b[0m\u001b[A\n",
      " 81%|\u001b[34m███████████████████████████▌      \u001b[39m| 40470/50000 [00:01<00:00, 37296.11it/s]\u001b[0m\u001b[A\n",
      " 88%|\u001b[34m██████████████████████████████    \u001b[39m| 44210/50000 [00:01<00:00, 37083.94it/s]\u001b[0m\u001b[A\n",
      "100%|\u001b[34m██████████████████████████████████\u001b[39m| 50000/50000 [00:01<00:00, 38362.92it/s]\u001b[0m\u001b[A\n"
     ]
    },
    {
     "name": "stdout",
     "output_type": "stream",
     "text": [
      "\u001b[0;36;m finished Monto Carlo Strategy Weight Computation \u001b[0m\n"
     ]
    },
    {
     "name": "stderr",
     "output_type": "stream",
     "text": [
      "Computing20170703--20220630weights: 100%|\u001b[34m███████\u001b[39m| 10/10 [00:43<00:00,  4.31s/it]\u001b[0m"
     ]
    },
    {
     "name": "stdout",
     "output_type": "stream",
     "text": [
      "\u001b[0;36;m Complete Capital Market Line Plotting. \u001b[0m\n",
      "\u001b[0;36;m saved \u001b[0m\n",
      "\u001b[0;36;m Start Comparison with S&P 500 Performance, Using the Comparison Strategy is \u001b[0m \u001b[0;34;m Markowitz \u001b[0m\n"
     ]
    },
    {
     "name": "stderr",
     "output_type": "stream",
     "text": [
      "\n"
     ]
    },
    {
     "name": "stdout",
     "output_type": "stream",
     "text": [
      "\u001b[0;36;m 完成\u001b[0m \u001b[0;34;m20180102--20180629\u001b[0m  \u001b[0;36;m时间段比较，开始做图 \u001b[0m\n",
      "\u001b[0;36;m 完成\u001b[0m \u001b[0;34;m20180702--20181231\u001b[0m  \u001b[0;36;m时间段比较，开始做图 \u001b[0m\n",
      "\u001b[0;36;m 完成\u001b[0m \u001b[0;34;m20190102--20190628\u001b[0m  \u001b[0;36;m时间段比较，开始做图 \u001b[0m\n",
      "\u001b[0;36;m 完成\u001b[0m \u001b[0;34;m20190701--20191231\u001b[0m  \u001b[0;36;m时间段比较，开始做图 \u001b[0m\n",
      "\u001b[0;36;m 完成\u001b[0m \u001b[0;34;m20200102--20200630\u001b[0m  \u001b[0;36;m时间段比较，开始做图 \u001b[0m\n",
      "\u001b[0;36;m 完成\u001b[0m \u001b[0;34;m20200701--20201231\u001b[0m  \u001b[0;36;m时间段比较，开始做图 \u001b[0m\n",
      "\u001b[0;36;m 完成\u001b[0m \u001b[0;34;m20210104--20210630\u001b[0m  \u001b[0;36;m时间段比较，开始做图 \u001b[0m\n",
      "\u001b[0;36;m 完成\u001b[0m \u001b[0;34;m20210701--20211231\u001b[0m  \u001b[0;36;m时间段比较，开始做图 \u001b[0m\n",
      "\u001b[0;36;m 完成\u001b[0m \u001b[0;34;m20220103--20220630\u001b[0m  \u001b[0;36;m时间段比较，开始做图 \u001b[0m\n",
      "\u001b[0;36;m 完成\u001b[0m \u001b[0;34;m20220701--20221229\u001b[0m  \u001b[0;36;m时间段比较，开始做图 \u001b[0m\n",
      "\u001b[0;36;m Start Comparison with S&P 500 Performance, Using the Comparison Strategy is \u001b[0m \u001b[0;34;m MontoCarlo \u001b[0m\n",
      "\u001b[0;36;m 完成\u001b[0m \u001b[0;34;m20180102--20180629\u001b[0m  \u001b[0;36;m时间段比较，开始做图 \u001b[0m\n",
      "\u001b[0;36;m 完成\u001b[0m \u001b[0;34;m20180702--20181231\u001b[0m  \u001b[0;36;m时间段比较，开始做图 \u001b[0m\n",
      "\u001b[0;36;m 完成\u001b[0m \u001b[0;34;m20190102--20190628\u001b[0m  \u001b[0;36;m时间段比较，开始做图 \u001b[0m\n",
      "\u001b[0;36;m 完成\u001b[0m \u001b[0;34;m20190701--20191231\u001b[0m  \u001b[0;36;m时间段比较，开始做图 \u001b[0m\n",
      "\u001b[0;36;m 完成\u001b[0m \u001b[0;34;m20200102--20200630\u001b[0m  \u001b[0;36;m时间段比较，开始做图 \u001b[0m\n",
      "\u001b[0;36;m 完成\u001b[0m \u001b[0;34;m20200701--20201231\u001b[0m  \u001b[0;36;m时间段比较，开始做图 \u001b[0m\n",
      "\u001b[0;36;m 完成\u001b[0m \u001b[0;34;m20210104--20210630\u001b[0m  \u001b[0;36;m时间段比较，开始做图 \u001b[0m\n",
      "\u001b[0;36;m 完成\u001b[0m \u001b[0;34;m20210701--20211231\u001b[0m  \u001b[0;36;m时间段比较，开始做图 \u001b[0m\n",
      "\u001b[0;36;m 完成\u001b[0m \u001b[0;34;m20220103--20220630\u001b[0m  \u001b[0;36;m时间段比较，开始做图 \u001b[0m\n",
      "\u001b[0;36;m 完成\u001b[0m \u001b[0;34;m20220701--20221229\u001b[0m  \u001b[0;36;m时间段比较，开始做图 \u001b[0m\n",
      "\u001b[0;36;m Start Comparison with S&P 500 Performance, Using the Comparison Strategy is \u001b[0m \u001b[0;34;m MontoCarlo_alpha0 \u001b[0m\n",
      "\u001b[0;36;m 完成\u001b[0m \u001b[0;34;m20180102--20180629\u001b[0m  \u001b[0;36;m时间段比较，开始做图 \u001b[0m\n",
      "\u001b[0;36;m 完成\u001b[0m \u001b[0;34;m20180702--20181231\u001b[0m  \u001b[0;36;m时间段比较，开始做图 \u001b[0m\n",
      "\u001b[0;36;m 完成\u001b[0m \u001b[0;34;m20190102--20190628\u001b[0m  \u001b[0;36;m时间段比较，开始做图 \u001b[0m\n",
      "\u001b[0;36;m 完成\u001b[0m \u001b[0;34;m20190701--20191231\u001b[0m  \u001b[0;36;m时间段比较，开始做图 \u001b[0m\n",
      "\u001b[0;36;m 完成\u001b[0m \u001b[0;34;m20200102--20200630\u001b[0m  \u001b[0;36;m时间段比较，开始做图 \u001b[0m\n",
      "\u001b[0;36;m 完成\u001b[0m \u001b[0;34;m20200701--20201231\u001b[0m  \u001b[0;36;m时间段比较，开始做图 \u001b[0m\n",
      "\u001b[0;36;m 完成\u001b[0m \u001b[0;34;m20210104--20210630\u001b[0m  \u001b[0;36;m时间段比较，开始做图 \u001b[0m\n",
      "\u001b[0;36;m 完成\u001b[0m \u001b[0;34;m20210701--20211231\u001b[0m  \u001b[0;36;m时间段比较，开始做图 \u001b[0m\n",
      "\u001b[0;36;m 完成\u001b[0m \u001b[0;34;m20220103--20220630\u001b[0m  \u001b[0;36;m时间段比较，开始做图 \u001b[0m\n",
      "\u001b[0;36;m 完成\u001b[0m \u001b[0;34;m20220701--20221229\u001b[0m  \u001b[0;36;m时间段比较，开始做图 \u001b[0m\n"
     ]
    }
   ],
   "source": [
    "class InvestmentStrategy:\n",
    "\n",
    "    @staticmethod\n",
    "    def process_data_x_matrix(datapath):\n",
    "        df_raw = pd.read_excel(datapath)\n",
    "        df_raw = df_raw.T\n",
    "        df_raw = df_raw.drop(index=['code'], columns=[0])\n",
    "        df_raw = df_raw.fillna(method='ffill')\n",
    "        df = df_raw.fillna(method='backfill')\n",
    "        return df\n",
    "\n",
    "    @staticmethod\n",
    "    def process_data_contain_sp500(datapath):\n",
    "        df_raw = pd.read_excel(datapath)\n",
    "        df_raw = df_raw.T\n",
    "        df_raw = df_raw.drop(index=['code'])\n",
    "        df_raw = df_raw.fillna(method='ffill')\n",
    "        df = df_raw.fillna(method='backfill')\n",
    "        return df\n",
    "\n",
    "    @staticmethod\n",
    "    def day_yield_compute(x_matrix):\n",
    "        day_yield = (x_matrix.shift(-1) - x_matrix) / x_matrix\n",
    "        return day_yield.iloc[:-1, :]\n",
    "\n",
    "    @staticmethod\n",
    "    def ex_vector_compute(x_matrix):\n",
    "        day_yield = (x_matrix.shift(-1) - x_matrix) / x_matrix\n",
    "        day_avg_yield = day_yield.mean().to_numpy()\n",
    "        return day_yield.iloc[:-1, :], day_avg_yield\n",
    "\n",
    "    @staticmethod\n",
    "    def ex_matrix_compute(x_matrix, ex_numpy_vector):\n",
    "        ex_np = np.repeat(np.expand_dims(ex_numpy_vector, axis=0), x_matrix.shape[0], axis=0)\n",
    "        ex_matrix = pd.DataFrame(ex_np, index=x_matrix.index, columns=x_matrix.columns)\n",
    "        return ex_matrix\n",
    "\n",
    "    @staticmethod\n",
    "    def cov_matrix_compute(x_ex_matrix):\n",
    "        return np.matmul(x_ex_matrix.T.to_numpy(), x_ex_matrix.to_numpy()) / (x_ex_matrix.shape[0] - 1)\n",
    "\n",
    "    def compute_weight(self, x_matrix, total_days=252, method=\"Markowitz\", starttime=0, endtime=0):\n",
    "        total_days_every_year = total_days / 5\n",
    "\n",
    "        day_yield_matrix, ex_numpy_vector = self.ex_vector_compute(x_matrix)\n",
    "        ex_matrix = self.ex_matrix_compute(day_yield_matrix, ex_numpy_vector)\n",
    "        x_ex_matrix = day_yield_matrix - ex_matrix\n",
    "        cov_matrix_numpy = self.cov_matrix_compute(x_ex_matrix)\n",
    "\n",
    "        # stocks_number = 50\n",
    "        n = STOCKS_NUMBER\n",
    "\n",
    "        one_matrix = np.ones((1, n))\n",
    "        \n",
    "        if method == \"Markowitz\":\n",
    "            print(\"\\033[0;36;m Initial Calculation of Portfolio Weights Using the Strategy：\\033[0m \\033[0;34;m Markowitz Portfolio \\033[0m\")\n",
    "            annual_yield_vector = ex_numpy_vector * total_days_every_year\n",
    "            w = cp.Variable(n)\n",
    "            prob = cp.Problem(cp.Minimize((1 / 2) * cp.quad_form(w, cov_matrix_numpy)),\n",
    "                              [annual_yield_vector.T @ w == EXPECTED_RETURN,\n",
    "                               one_matrix @ w == 1])\n",
    "            prob.solve()\n",
    "\n",
    "            print(\"\\033[0;36;m Complete Markowitz Portfolio Optimal Weight Quadratic Programming Solution with the Minimum Variance Value：\\033[0m \\033[0;34;m {} \\033[0m\".format(prob.value))\n",
    "\n",
    "            return w.value\n",
    "\n",
    "        r_p_list = []\n",
    "        sigma_p_list = []\n",
    "        sharpe_ratio_list = []\n",
    "        weight_list = []\n",
    "        if method == \"MontoCarlo\":\n",
    "            print(\"\\033[0;36;m Start Calculation of Portfolio Weights Using the Strategy：\\033[0m \\033[0;34;m Monto Carlo Solve for the Maximum Sharpe Ratio \\033[0m\")\n",
    "            np.random.seed(1)\n",
    "            risk_free_rate_day = RISK_FREE_RATE / total_days_every_year\n",
    "            bar = tqdm(list(range(int(MONTO_CARLO_TIMES))),\n",
    "                       bar_format='{l_bar}%s{bar}%s{r_bar}' % (Fore.BLUE, Fore.RESET))\n",
    "            for _ in bar:\n",
    "                weights = np.random.normal(1 / n, 1.0, n - 1)\n",
    "                weights_last = 1 - np.sum(weights)\n",
    "                weights = np.append(weights, weights_last)\n",
    "                weights_row_vector = np.expand_dims(weights, axis=0)\n",
    "                yield_avg_vector = np.expand_dims(ex_numpy_vector, axis=0)\n",
    "                sigma_p = np.sqrt(np.matmul(np.matmul(weights_row_vector, cov_matrix_numpy), weights_row_vector.T))[0][\n",
    "                    0]\n",
    "                r_p = np.matmul(weights_row_vector, yield_avg_vector.T)[0][0]\n",
    "\n",
    "                sharpe_ratio = (r_p - risk_free_rate_day) / sigma_p\n",
    "\n",
    "                r_p_list.append(r_p)\n",
    "                sigma_p_list.append(sigma_p)\n",
    "                sharpe_ratio_list.append(sharpe_ratio)\n",
    "                weight_list.append(weights)\n",
    "\n",
    "            r_p_list_numpy = np.array(r_p_list)\n",
    "            sigma_p_list_numpy = np.array(sigma_p_list)\n",
    "            sharpe_ratio_list_numpy = np.array(sharpe_ratio_list)\n",
    "            weight_list_numpy = np.array(weight_list)\n",
    "\n",
    "            # max sharpe ratio\n",
    "            max_sharpe_ratio = np.max(sharpe_ratio_list_numpy)\n",
    "            max_sharpe_ratio_index = np.argmax(sharpe_ratio_list_numpy)\n",
    "\n",
    "            # cov and mean\n",
    "            sigma_rp = [sigma_p_list_numpy[max_sharpe_ratio_index], r_p_list_numpy[max_sharpe_ratio_index]]\n",
    "\n",
    "            # alpha \n",
    "            alpha = (EXPECTED_RETURN / total_days_every_year - sigma_rp[1]) / (risk_free_rate_day - sigma_rp[1])\n",
    "            weight_list_numpy_opt_alpha = np.append(weight_list_numpy[max_sharpe_ratio_index], alpha)\n",
    "\n",
    "            print(\"\\033[0;36;m finished Monto Carlo Strategy Weight Computation \\033[0m\")\n",
    "            # plot fig\n",
    "            filename = os.path.join(os.getcwd(), 'images1')\n",
    "            if not os.path.exists(filename):\n",
    "                os.makedirs(filename)\n",
    "            plt.figure(figsize=(8, 6))\n",
    "            plt.style.use('seaborn-dark')\n",
    "            plt.rcParams['savefig.dpi'] = 300  \n",
    "            plt.rcParams['figure.dpi'] = 300  \n",
    "            plt.rcParams['axes.unicode_minus'] = False  \n",
    "\n",
    "            plt.scatter(sigma_p_list_numpy, r_p_list_numpy, c=r_p_list_numpy / sigma_p_list_numpy,\n",
    "                        marker='o', cmap='coolwarm')\n",
    "            plt.plot([0, sigma_rp[0]], [risk_free_rate_day, sigma_rp[1]], 'r')\n",
    "            \n",
    "            plt.annotate('max Sharpe ratio:{}'.format(max_sharpe_ratio), xy=sigma_rp)\n",
    "            plt.xlabel('Std. by Day')\n",
    "            plt.ylabel('Yield by Day')\n",
    "            plt.colorbar(label='Sharpe ratio')\n",
    "            plt.title(\"Monta Carlo Sampling No.{} times and Obtain CAL.\".format(MONTO_CARLO_TIMES))\n",
    "            plt.savefig(\"./images1/Montacarlo_CAL_{}_{}_{}\".format(MONTO_CARLO_TIMES, starttime, endtime), dpi=300)\n",
    "            print(\"\\033[0;36;m Complete Capital Market Line Plotting. \\033[0m\")\n",
    "            return weight_list_numpy_opt_alpha\n",
    "\n",
    "    @staticmethod\n",
    "    def get_six_month_map(x_matrix):\n",
    "        dfx = pd.DataFrame(x_matrix.index, columns=['time'])\n",
    "        dfx[\"year\"] = pd.to_datetime(pd.DataFrame(x_matrix.index, columns=['time'])['time'], format='%Y-%m-%d').dt.year\n",
    "        dfx[\"month\"] = pd.to_datetime(pd.DataFrame(x_matrix.index, columns=['time'])['time'],\n",
    "                                      format='%Y-%m-%d').dt.month\n",
    "\n",
    "        dfx['yearmonth'] = dfx.apply(lambda r: r['time'][:-2], axis=1)\n",
    "        dfx = dfx.drop_duplicates(['yearmonth'])\n",
    "\n",
    "        index_six_month = dfx[(dfx['month'] == 1) | (dfx['month'] == 7)].index.tolist()\n",
    "        index_slice = int(len(index_six_month) / 2)\n",
    "\n",
    "        compare_list1 = index_six_month[index_slice:]\n",
    "        compare_list2 = compare_list1[1:]\n",
    "        compare_list2.append(x_matrix.shape[0])\n",
    "        compare_list = list(zip(compare_list1, compare_list2))\n",
    "\n",
    "        six_map = {k: v for k, v in zip(index_six_month[index_slice:], index_six_month[:index_slice])}\n",
    "        return six_map, compare_list\n",
    "\n",
    "    def save_weights_markowitz(self):\n",
    "        x_matrix_total = self.process_data_x_matrix(DATAPATH)\n",
    "        six_map, compare_list = self.get_six_month_map(x_matrix_total)\n",
    "\n",
    "        weight_list = []\n",
    "        bar = tqdm(six_map.items(), bar_format='{l_bar}%s{bar}%s{r_bar}' % (Fore.BLUE, Fore.RESET))\n",
    "        for k, v in bar:\n",
    "            start_time = x_matrix_total.iloc[v:k, :].index[0]\n",
    "            end_time = x_matrix_total.iloc[v:k, :].index[-1]\n",
    "            bar.set_description(f\"Computing{start_time}--{end_time}weights\")\n",
    "            df_weight = x_matrix_total.iloc[v:k, :]\n",
    "            total_days = k - v\n",
    "            weight = self.compute_weight(df_weight, total_days)\n",
    "            weight_list.append(weight)\n",
    "        # save weight\n",
    "        filename = os.path.join(os.getcwd(), 'weights')\n",
    "        if not os.path.exists(filename):\n",
    "            os.makedirs(filename)\n",
    "        with open('./weights/weights_Markowitz.pickle', 'wb') as f:\n",
    "            pickle.dump(weight_list, f)\n",
    "        with open('./weights/weights_Markowitz.txt', 'w') as f2:\n",
    "            f2.write(str(weight_list))\n",
    "        print(\"\\033[0;36;m weight save completed \\033[0m\")\n",
    "\n",
    "    def save_weights_montocarlo(self):\n",
    "        x_matrix_total = self.process_data_x_matrix(DATAPATH)\n",
    "        six_map, compare_list = self.get_six_month_map(x_matrix_total)\n",
    "\n",
    "        weight_list = []\n",
    "        bar = tqdm(six_map.items(), bar_format='{l_bar}%s{bar}%s{r_bar}' % (Fore.BLUE, Fore.RESET))\n",
    "        for k, v in bar:\n",
    "            df_weight = x_matrix_total.iloc[v:k, :]\n",
    "            total_days = k - v\n",
    "            start_time = x_matrix_total.iloc[v:k, :].index[0]\n",
    "            end_time = x_matrix_total.iloc[v:k, :].index[-1]\n",
    "            bar.set_description(f\"Computing{start_time}--{end_time}weights\")\n",
    "\n",
    "            weight = self.compute_weight(df_weight, total_days, method=\"MontoCarlo\", starttime=start_time,\n",
    "                                         endtime=end_time)\n",
    "            weight_list.append(weight)\n",
    "        # save weight\n",
    "        filename = os.path.join(os.getcwd(), 'weights')\n",
    "        if not os.path.exists(filename):\n",
    "            os.makedirs(filename)\n",
    "        with open('./weights/weights_MontoCarlo.pickle', 'wb') as f:\n",
    "            pickle.dump(weight_list, f)\n",
    "        with open('./weights/weights_MontoCarlo.txt', 'w') as f2:\n",
    "            f2.write(str(weight_list))\n",
    "        print(\"\\033[0;36;m saved \\033[0m\")\n",
    "\n",
    "    def compare_performance(self, method=\"Markowitz\"):\n",
    "        print(\"\\033[0;36;m Start Comparison with S&P 500 Performance, Using the Comparison Strategy is \\033[0m \\033[0;34;m {} \\033[0m\".format(method))\n",
    "        total_compare_matrix = pd.DataFrame(columns=['SP500', 'Portfolio', \"Period\"])\n",
    "        total_compare_matrix_convert_one = pd.DataFrame(columns=['SP500', 'Portfolio', \"Period\"])\n",
    "        x_matrix_total_sp500 = self.process_data_contain_sp500(DATAPATH)\n",
    "        six_map, compare_list = self.get_six_month_map(x_matrix_total_sp500)\n",
    "        x_matrix_total_sp500_convert_one = x_matrix_total_sp500.div(x_matrix_total_sp500.iloc[compare_list[0][0]],\n",
    "                                                                    axis='columns')\n",
    "\n",
    "        if method == \"MontoCarlo_alpha0\":\n",
    "            with open('./weights/weights_{}.pickle'.format(\"MontoCarlo\"), 'rb') as f:\n",
    "                weight_list = pickle.load(f)\n",
    "        else:\n",
    "            with open('./weights/weights_{}.pickle'.format(method), 'rb') as f:\n",
    "                weight_list = pickle.load(f)\n",
    "\n",
    "        alpha = 0\n",
    "\n",
    "        for index, period in enumerate(compare_list):\n",
    "            if method == \"Markowitz\":\n",
    "                weights = weight_list[index]\n",
    "\n",
    "            elif method == \"MontoCarlo\":\n",
    "                weights = weight_list[index][:-1]\n",
    "                alpha = weight_list[index][-1]\n",
    "\n",
    "            elif method == \"MontoCarlo_alpha0\":\n",
    "                weights = weight_list[index][:-1]\n",
    "\n",
    "            if period[1] != x_matrix_total_sp500.shape[0]:\n",
    "                period_day_yield_matrix = x_matrix_total_sp500.iloc[period[0]:period[1] + 1, :]\n",
    "                period_day_matrix_convert_one = x_matrix_total_sp500_convert_one.iloc[period[0]:period[1] + 1, :]\n",
    "            else:\n",
    "                period_day_yield_matrix = x_matrix_total_sp500.iloc[period[0]:period[1], :]\n",
    "                period_day_matrix_convert_one = x_matrix_total_sp500_convert_one.iloc[period[0]:period[1], :]\n",
    "            day_yield_compare_matrix = self.day_yield_compute(period_day_yield_matrix)\n",
    "            period_day_matrix_convert_one = period_day_matrix_convert_one.iloc[:-1, :]\n",
    "            start_time = day_yield_compare_matrix.index[0]\n",
    "            end_time = day_yield_compare_matrix.index[-1]\n",
    "\n",
    "            weighted_day_yield = (1 - alpha) * (\n",
    "                np.matmul(day_yield_compare_matrix.iloc[:, 1:].to_numpy(), weights)) + alpha * RISK_FREE_RATE / 242\n",
    "            weighted_day_convert_one = np.matmul(period_day_matrix_convert_one.iloc[:, 1:].to_numpy(), weights)\n",
    "\n",
    "            day_yield_compare_matrix['Portfolio'] = pd.DataFrame(weighted_day_yield,\n",
    "                                                                 index=day_yield_compare_matrix.index)\n",
    "\n",
    "            period_day_matrix_convert_one['Portfolio'] = pd.DataFrame(weighted_day_convert_one,\n",
    "                                                                      index=day_yield_compare_matrix.index)\n",
    "            day_yield_compare_matrix.rename(columns={0: 'SP500'}, inplace=True)\n",
    "            period_day_matrix_convert_one.rename(columns={0: 'SP500'}, inplace=True)\n",
    "            period_series = pd.to_datetime(\n",
    "                pd.DataFrame(day_yield_compare_matrix.index, columns=['time'])['time'], format='%Y-%m-%d')\n",
    "            dict_data = {'time': period_series.values}\n",
    "\n",
    "            day_yield_compare_matrix[\"Period\"] = pd.DataFrame(dict_data, index=day_yield_compare_matrix.index)\n",
    "            period_day_matrix_convert_one[\"Period\"] = pd.DataFrame(dict_data, index=day_yield_compare_matrix.index)\n",
    "\n",
    "            # 作图和记录平均收益比较\n",
    "            sp500_mean = np.mean(day_yield_compare_matrix['SP500'].to_numpy())\n",
    "            portfolio_mean = np.mean(day_yield_compare_matrix['Portfolio'].to_numpy())\n",
    "            if sp500_mean < portfolio_mean:\n",
    "                win = 'Portfolio win!!!'\n",
    "            else:\n",
    "                win = 'S&P500 win!!!'\n",
    "            filename = os.path.join(os.getcwd(), 'compare')\n",
    "            if not os.path.exists(filename):\n",
    "                os.makedirs(filename)\n",
    "\n",
    "            with open('./compare/compare_{}.txt'.format(method), 'a') as f:\n",
    "                f.write(str(start_time) + \"--\" + str(end_time) + \"  \" + 'SP500: ' + str(\n",
    "                    sp500_mean) + \"--\" + 'Portfolio: ' + str(portfolio_mean) + \"---\" + win + '\\n')\n",
    "\n",
    "            print(\"\\033[0;36;m 完成\\033[0m \\033[0;34;m{}--{}\\033[0m  \\033[0;36;m时间段比较，开始做图 \\033[0m\".format(start_time,\n",
    "                                                                                                         end_time))\n",
    "            self.plot_performance_compare(day_yield_compare_matrix, start_time, end_time, method)\n",
    "            if index == 0:\n",
    "                total_compare_matrix = day_yield_compare_matrix\n",
    "                total_compare_matrix_convert_one = period_day_matrix_convert_one\n",
    "            else:\n",
    "                total_compare_matrix = pd.concat([total_compare_matrix, day_yield_compare_matrix])\n",
    "                total_compare_matrix_convert_one = pd.concat(\n",
    "                    [total_compare_matrix_convert_one, period_day_matrix_convert_one])\n",
    "\n",
    "        return total_compare_matrix, total_compare_matrix_convert_one\n",
    "\n",
    "    @staticmethod\n",
    "    def plot_performance_compare(yield_matrix, start_time, end_time, method, yield_rate=True):\n",
    "        sp500 = yield_matrix['SP500'].to_numpy()\n",
    "        portfolio = yield_matrix['Portfolio'].to_numpy()\n",
    "        period = yield_matrix[\"Period\"].to_numpy()\n",
    "        # plt.figure(figsize=(15, 9))\n",
    "        plt.style.use('seaborn-dark')\n",
    "\n",
    "        fig, ax = plt.subplots()\n",
    "\n",
    "        plt.rcParams['savefig.dpi'] = 300 \n",
    "        plt.rcParams['figure.dpi'] = 300  \n",
    "        plt.rcParams['axes.unicode_minus'] = False  \n",
    "        ax.plot(period, sp500, label='S&P500')\n",
    "        ax.plot(period, portfolio, label='portfolio')\n",
    "\n",
    "        if yield_rate:\n",
    "            ax.set(xlabel='Date', ylabel='Yield by Day',\n",
    "                   title=\"S&P500 and Portfolio by {}_{}-{}\".format(method, start_time, end_time))\n",
    "        else:\n",
    "            ax.set(xlabel='Date', ylabel='Asset Normalization',\n",
    "                   title=\"S&P500 and Portfolio by {}_{}-{}\".format(method, start_time, end_time))\n",
    "        ax.grid()\n",
    "        ax.legend()\n",
    "\n",
    "        filename = os.path.join(os.getcwd(), 'images1')\n",
    "        if not os.path.exists(filename):\n",
    "            os.makedirs(filename)\n",
    "        if yield_rate:\n",
    "            plt.savefig(\"./images1/Investment Return Comparison of S&P500 and Portfolio by {}_{}-{}\".format(method, start_time, end_time), dpi=300)\n",
    "        else:\n",
    "            plt.savefig(\"./images1/Investment Return Comparison of S&P500 and Portfolio by {}_{}-{}\".format(method, start_time, end_time), dpi=300)\n",
    "        plt.close()\n",
    "        # plt.show()\n",
    "\n",
    "\n",
    "if __name__ == '__main__':\n",
    "    matplotlib.use('Agg')\n",
    "\n",
    "    invent_strate = InvestmentStrategy()\n",
    "\n",
    "    # get_six_months_portfolio_weight\n",
    "    invent_strate.save_weights_markowitz()\n",
    "    invent_strate.save_weights_montocarlo()\n",
    "\n",
    "    # method = \"Markowitz\"\n",
    "    # method = \"MontoCarlo\"\n",
    "    # method = \"MontoCarlo_alpha0\"\n",
    "    for method in [\"Markowitz\", \"MontoCarlo\", \"MontoCarlo_alpha0\"]:\n",
    "        total_compare_yield_matrix, total_compare_matrix_convert_one = invent_strate.compare_performance(method=method)\n",
    "        sp500_mean_total = np.mean(total_compare_yield_matrix['SP500'].to_numpy())\n",
    "        portfolio_mean_total = np.mean(total_compare_yield_matrix['Portfolio'].to_numpy())\n",
    "        if sp500_mean_total < portfolio_mean_total:\n",
    "            win = 'Portfolio win!!!'\n",
    "        else:\n",
    "            win = 'S&P500 win!!!'\n",
    "\n",
    "        with open('./compare/compare_{}.txt'.format(method), 'a') as f:\n",
    "            f.write(\"Total Ave.：\" + str(20150105) + \"--\" + str(20191230) + \"  \" + 'SP500: ' + str(\n",
    "                sp500_mean_total) + \"--\" + 'Portfolio: ' + str(portfolio_mean_total) + \"---\" + win + '\\n')\n",
    "\n",
    "        \n",
    "        invent_strate.plot_performance_compare(total_compare_yield_matrix, 20150105, 20191230, method)\n",
    "        invent_strate.plot_performance_compare(total_compare_matrix_convert_one, 20150105, 20191230, method,\n",
    "                                               yield_rate=False)\n"
   ]
  }
 ],
 "metadata": {
  "kernelspec": {
   "display_name": "Python 3 (ipykernel)",
   "language": "python",
   "name": "python3"
  },
  "language_info": {
   "codemirror_mode": {
    "name": "ipython",
    "version": 3
   },
   "file_extension": ".py",
   "mimetype": "text/x-python",
   "name": "python",
   "nbconvert_exporter": "python",
   "pygments_lexer": "ipython3",
   "version": "3.9.13"
  },
  "toc": {
   "base_numbering": 1,
   "nav_menu": {},
   "number_sections": true,
   "sideBar": true,
   "skip_h1_title": false,
   "title_cell": "Table of Contents",
   "title_sidebar": "Contents",
   "toc_cell": true,
   "toc_position": {},
   "toc_section_display": true,
   "toc_window_display": true
  }
 },
 "nbformat": 4,
 "nbformat_minor": 5
}
