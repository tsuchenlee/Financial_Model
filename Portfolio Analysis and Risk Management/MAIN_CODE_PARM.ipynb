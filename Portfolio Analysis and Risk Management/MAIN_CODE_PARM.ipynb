{
 "cells": [
  {
   "cell_type": "code",
   "execution_count": 4,
   "id": "64f8f0d9",
   "metadata": {},
   "outputs": [],
   "source": [
    "import matplotlib\n",
    "import pandas as pd\n",
    "import numpy as np\n",
    "import cvxpy as cp\n",
    "from cvxopt import matrix, solvers\n",
    "import pickle\n",
    "import matplotlib.pyplot as plt\n",
    "import os\n",
    "from tqdm import tqdm\n",
    "from colorama import Fore\n",
    "from ipynb.fs.full.config import RISK_FREE_RATE, DATAPATH, EXPECTED_RETURN, STOCKS_NUMBER, MONTO_CARLO_TIMES"
   ]
  },
  {
   "cell_type": "code",
   "execution_count": null,
   "id": "305f0049",
   "metadata": {},
   "outputs": [
    {
     "name": "stderr",
     "output_type": "stream",
     "text": [
      "Computing20170703--20220630weights: 100%|\u001b[34m███████\u001b[39m| 10/10 [00:00<00:00, 93.11it/s]\u001b[0m\n"
     ]
    },
    {
     "name": "stdout",
     "output_type": "stream",
     "text": [
      "\u001b[0;36;m Initial Calculation of Portfolio Weights Using the Strategy：\u001b[0m \u001b[0;34;m Markowitz Portfolio \u001b[0m\n",
      "\u001b[0;36;m Complete Markowitz Portfolio Optimal Weight Quadratic Programming Solution with the Minimum Variance Value：\u001b[0m \u001b[0;34;m 1.6140103280698902e-05 \u001b[0m\n",
      "\u001b[0;36;m Initial Calculation of Portfolio Weights Using the Strategy：\u001b[0m \u001b[0;34;m Markowitz Portfolio \u001b[0m\n",
      "\u001b[0;36;m Complete Markowitz Portfolio Optimal Weight Quadratic Programming Solution with the Minimum Variance Value：\u001b[0m \u001b[0;34;m 1.7554799857823897e-05 \u001b[0m\n",
      "\u001b[0;36;m Initial Calculation of Portfolio Weights Using the Strategy：\u001b[0m \u001b[0;34;m Markowitz Portfolio \u001b[0m\n",
      "\u001b[0;36;m Complete Markowitz Portfolio Optimal Weight Quadratic Programming Solution with the Minimum Variance Value：\u001b[0m \u001b[0;34;m 1.8121360561215513e-05 \u001b[0m\n",
      "\u001b[0;36;m Initial Calculation of Portfolio Weights Using the Strategy：\u001b[0m \u001b[0;34;m Markowitz Portfolio \u001b[0m\n",
      "\u001b[0;36;m Complete Markowitz Portfolio Optimal Weight Quadratic Programming Solution with the Minimum Variance Value：\u001b[0m \u001b[0;34;m 1.7516747025799126e-05 \u001b[0m\n",
      "\u001b[0;36;m Initial Calculation of Portfolio Weights Using the Strategy：\u001b[0m \u001b[0;34;m Markowitz Portfolio \u001b[0m\n",
      "\u001b[0;36;m Complete Markowitz Portfolio Optimal Weight Quadratic Programming Solution with the Minimum Variance Value：\u001b[0m \u001b[0;34;m 1.599903244735453e-05 \u001b[0m\n",
      "\u001b[0;36;m Initial Calculation of Portfolio Weights Using the Strategy：\u001b[0m \u001b[0;34;m Markowitz Portfolio \u001b[0m\n",
      "\u001b[0;36;m Complete Markowitz Portfolio Optimal Weight Quadratic Programming Solution with the Minimum Variance Value：\u001b[0m \u001b[0;34;m 1.6822794284503603e-05 \u001b[0m\n",
      "\u001b[0;36;m Initial Calculation of Portfolio Weights Using the Strategy：\u001b[0m \u001b[0;34;m Markowitz Portfolio \u001b[0m\n",
      "\u001b[0;36;m Complete Markowitz Portfolio Optimal Weight Quadratic Programming Solution with the Minimum Variance Value：\u001b[0m \u001b[0;34;m 5.5489633494808975e-06 \u001b[0m\n",
      "\u001b[0;36;m Initial Calculation of Portfolio Weights Using the Strategy：\u001b[0m \u001b[0;34;m Markowitz Portfolio \u001b[0m\n",
      "\u001b[0;36;m Complete Markowitz Portfolio Optimal Weight Quadratic Programming Solution with the Minimum Variance Value：\u001b[0m \u001b[0;34;m 2.220033072106568e-06 \u001b[0m\n",
      "\u001b[0;36;m Initial Calculation of Portfolio Weights Using the Strategy：\u001b[0m \u001b[0;34;m Markowitz Portfolio \u001b[0m\n",
      "\u001b[0;36;m Complete Markowitz Portfolio Optimal Weight Quadratic Programming Solution with the Minimum Variance Value：\u001b[0m \u001b[0;34;m 2.0395733109579852e-06 \u001b[0m\n",
      "\u001b[0;36;m Initial Calculation of Portfolio Weights Using the Strategy：\u001b[0m \u001b[0;34;m Markowitz Portfolio \u001b[0m\n",
      "\u001b[0;36;m Complete Markowitz Portfolio Optimal Weight Quadratic Programming Solution with the Minimum Variance Value：\u001b[0m \u001b[0;34;m 2.6455799764530944e-06 \u001b[0m\n",
      "\u001b[0;36;m weight save completed \u001b[0m\n"
     ]
    },
    {
     "name": "stderr",
     "output_type": "stream",
     "text": [
      "Computing20130102--20171229weights:   0%|\u001b[34m                \u001b[39m| 0/10 [00:00<?, ?it/s]\u001b[0m"
     ]
    },
    {
     "name": "stdout",
     "output_type": "stream",
     "text": [
      "\u001b[0;36;m Start Calculation of Portfolio Weights Using the Strategy：\u001b[0m \u001b[0;34;m Monto Carlo Solve for the Maximum Sharpe Ratio \u001b[0m\n"
     ]
    },
    {
     "name": "stderr",
     "output_type": "stream",
     "text": [
      "\n",
      "  0%|\u001b[34m                                                 \u001b[39m| 0/50000 [00:00<?, ?it/s]\u001b[0m\u001b[A\n",
      "  8%|\u001b[34m██▊                                \u001b[39m| 3987/50000 [00:00<00:01, 39862.91it/s]\u001b[0m\u001b[A\n",
      " 16%|\u001b[34m█████▌                             \u001b[39m| 7974/50000 [00:00<00:01, 38816.41it/s]\u001b[0m\u001b[A\n",
      " 24%|\u001b[34m████████▏                         \u001b[39m| 12055/50000 [00:00<00:00, 39708.31it/s]\u001b[0m\u001b[A\n",
      " 32%|\u001b[34m██████████▉                       \u001b[39m| 16029/50000 [00:00<00:00, 38339.55it/s]\u001b[0m\u001b[A\n",
      " 40%|\u001b[34m█████████████▌                    \u001b[39m| 19871/50000 [00:00<00:00, 37722.80it/s]\u001b[0m\u001b[A\n",
      " 47%|\u001b[34m████████████████                  \u001b[39m| 23649/50000 [00:00<00:00, 37312.52it/s]\u001b[0m\u001b[A\n",
      " 56%|\u001b[34m███████████████████               \u001b[39m| 28012/50000 [00:00<00:00, 39319.25it/s]\u001b[0m\u001b[A\n",
      " 64%|\u001b[34m█████████████████████▋            \u001b[39m| 31952/50000 [00:00<00:00, 38377.69it/s]\u001b[0m\u001b[A\n",
      " 72%|\u001b[34m████████████████████████▎         \u001b[39m| 35799/50000 [00:00<00:00, 38011.86it/s]\u001b[0m\u001b[A\n",
      " 79%|\u001b[34m██████████████████████████▉       \u001b[39m| 39606/50000 [00:01<00:00, 37750.88it/s]\u001b[0m\u001b[A\n",
      " 89%|\u001b[34m██████████████████████████████▏   \u001b[39m| 44456/50000 [00:01<00:00, 40958.36it/s]\u001b[0m\u001b[A\n",
      "100%|\u001b[34m██████████████████████████████████\u001b[39m| 50000/50000 [00:01<00:00, 38825.31it/s]\u001b[0m\u001b[A\n",
      "/var/folders/xb/n8vz2nsx6xv6l4kn_m4mzkf40000gn/T/ipykernel_70197/306514252.py:116: RuntimeWarning: More than 20 figures have been opened. Figures created through the pyplot interface (`matplotlib.pyplot.figure`) are retained until explicitly closed and may consume too much memory. (To control this warning, see the rcParam `figure.max_open_warning`).\n",
      "  plt.figure(figsize=(8, 6))\n"
     ]
    },
    {
     "name": "stdout",
     "output_type": "stream",
     "text": [
      "\u001b[0;36;m finished Monto Carlo Strategy Weight Computation \u001b[0m\n"
     ]
    },
    {
     "name": "stderr",
     "output_type": "stream",
     "text": [
      "Computing20130701--20180629weights:  10%|\u001b[34m▊       \u001b[39m| 1/10 [00:04<00:37,  4.14s/it]\u001b[0m"
     ]
    },
    {
     "name": "stdout",
     "output_type": "stream",
     "text": [
      "\u001b[0;36;m Complete Capital Market Line Plotting. \u001b[0m\n",
      "\u001b[0;36;m Start Calculation of Portfolio Weights Using the Strategy：\u001b[0m \u001b[0;34;m Monto Carlo Solve for the Maximum Sharpe Ratio \u001b[0m\n"
     ]
    },
    {
     "name": "stderr",
     "output_type": "stream",
     "text": [
      "\n",
      "  0%|\u001b[34m                                                 \u001b[39m| 0/50000 [00:00<?, ?it/s]\u001b[0m\u001b[A\n",
      "  8%|\u001b[34m██▉                                \u001b[39m| 4144/50000 [00:00<00:01, 41431.74it/s]\u001b[0m\u001b[A\n",
      " 17%|\u001b[34m█████▊                             \u001b[39m| 8288/50000 [00:00<00:01, 39032.20it/s]\u001b[0m\u001b[A\n",
      " 25%|\u001b[34m████████▌                         \u001b[39m| 12631/50000 [00:00<00:00, 40973.92it/s]\u001b[0m\u001b[A\n",
      " 33%|\u001b[34m███████████▍                      \u001b[39m| 16740/50000 [00:00<00:00, 39750.53it/s]\u001b[0m\u001b[A\n",
      " 42%|\u001b[34m██████████████▍                   \u001b[39m| 21176/50000 [00:00<00:00, 41357.55it/s]\u001b[0m\u001b[A\n",
      " 51%|\u001b[34m█████████████████▎                \u001b[39m| 25493/50000 [00:00<00:00, 41958.11it/s]\u001b[0m\u001b[A\n",
      " 60%|\u001b[34m████████████████████▎             \u001b[39m| 29924/50000 [00:00<00:00, 42714.06it/s]\u001b[0m\u001b[A\n",
      " 69%|\u001b[34m███████████████████████▌          \u001b[39m| 34637/50000 [00:00<00:00, 44104.89it/s]\u001b[0m\u001b[A\n",
      " 79%|\u001b[34m██████████████████████████▉       \u001b[39m| 39653/50000 [00:00<00:00, 45982.77it/s]\u001b[0m\u001b[A\n",
      " 89%|\u001b[34m██████████████████████████████    \u001b[39m| 44258/50000 [00:01<00:00, 44831.25it/s]\u001b[0m\u001b[A\n",
      "100%|\u001b[34m██████████████████████████████████\u001b[39m| 50000/50000 [00:01<00:00, 42324.64it/s]\u001b[0m\u001b[A\n"
     ]
    },
    {
     "name": "stdout",
     "output_type": "stream",
     "text": [
      "\u001b[0;36;m finished Monto Carlo Strategy Weight Computation \u001b[0m\n"
     ]
    },
    {
     "name": "stderr",
     "output_type": "stream",
     "text": [
      "Computing20140102--20181231weights:  20%|\u001b[34m█▌      \u001b[39m| 2/10 [00:08<00:32,  4.06s/it]\u001b[0m"
     ]
    },
    {
     "name": "stdout",
     "output_type": "stream",
     "text": [
      "\u001b[0;36;m Complete Capital Market Line Plotting. \u001b[0m\n",
      "\u001b[0;36;m Start Calculation of Portfolio Weights Using the Strategy：\u001b[0m \u001b[0;34;m Monto Carlo Solve for the Maximum Sharpe Ratio \u001b[0m\n"
     ]
    },
    {
     "name": "stderr",
     "output_type": "stream",
     "text": [
      "\n",
      "  0%|\u001b[34m                                                 \u001b[39m| 0/50000 [00:00<?, ?it/s]\u001b[0m\u001b[A\n",
      "  7%|\u001b[34m██▎                                \u001b[39m| 3332/50000 [00:00<00:01, 33315.27it/s]\u001b[0m\u001b[A\n",
      " 15%|\u001b[34m█████▏                             \u001b[39m| 7465/50000 [00:00<00:01, 38024.39it/s]\u001b[0m\u001b[A\n",
      " 23%|\u001b[34m███████▊                          \u001b[39m| 11483/50000 [00:00<00:00, 39007.37it/s]\u001b[0m\u001b[A\n",
      " 32%|\u001b[34m██████████▊                       \u001b[39m| 15844/50000 [00:00<00:00, 40821.27it/s]\u001b[0m\u001b[A\n",
      " 40%|\u001b[34m█████████████▌                    \u001b[39m| 19927/50000 [00:00<00:00, 39341.89it/s]\u001b[0m\u001b[A\n",
      " 48%|\u001b[34m████████████████▏                 \u001b[39m| 23871/50000 [00:00<00:00, 38424.84it/s]\u001b[0m\u001b[A\n",
      " 55%|\u001b[34m██████████████████▊               \u001b[39m| 27722/50000 [00:00<00:00, 37905.06it/s]\u001b[0m\u001b[A\n",
      " 63%|\u001b[34m█████████████████████▍            \u001b[39m| 31518/50000 [00:00<00:00, 37684.67it/s]\u001b[0m\u001b[A\n",
      " 71%|\u001b[34m███████████████████████▉          \u001b[39m| 35290/50000 [00:00<00:00, 37446.79it/s]\u001b[0m\u001b[A\n",
      " 78%|\u001b[34m██████████████████████████▌       \u001b[39m| 39037/50000 [00:01<00:00, 37395.23it/s]\u001b[0m\u001b[A\n",
      " 86%|\u001b[34m█████████████████████████████     \u001b[39m| 42778/50000 [00:01<00:00, 37062.55it/s]\u001b[0m\u001b[A\n",
      "100%|\u001b[34m██████████████████████████████████\u001b[39m| 50000/50000 [00:01<00:00, 37803.58it/s]\u001b[0m\u001b[A\n"
     ]
    },
    {
     "name": "stdout",
     "output_type": "stream",
     "text": [
      "\u001b[0;36;m finished Monto Carlo Strategy Weight Computation \u001b[0m\n"
     ]
    },
    {
     "name": "stderr",
     "output_type": "stream",
     "text": [
      "Computing20140701--20190628weights:  30%|\u001b[34m██▍     \u001b[39m| 3/10 [00:12<00:29,  4.16s/it]\u001b[0m"
     ]
    },
    {
     "name": "stdout",
     "output_type": "stream",
     "text": [
      "\u001b[0;36;m Complete Capital Market Line Plotting. \u001b[0m\n",
      "\u001b[0;36;m Start Calculation of Portfolio Weights Using the Strategy：\u001b[0m \u001b[0;34;m Monto Carlo Solve for the Maximum Sharpe Ratio \u001b[0m\n"
     ]
    },
    {
     "name": "stderr",
     "output_type": "stream",
     "text": [
      "\n",
      "  0%|\u001b[34m                                                 \u001b[39m| 0/50000 [00:00<?, ?it/s]\u001b[0m\u001b[A\n",
      "  8%|\u001b[34m██▉                                \u001b[39m| 4164/50000 [00:00<00:01, 41637.46it/s]\u001b[0m\u001b[A\n",
      " 17%|\u001b[34m█████▊                             \u001b[39m| 8328/50000 [00:00<00:01, 41063.78it/s]\u001b[0m\u001b[A\n",
      " 25%|\u001b[34m████████▌                         \u001b[39m| 12621/50000 [00:00<00:00, 41907.60it/s]\u001b[0m\u001b[A\n",
      " 34%|\u001b[34m███████████▍                      \u001b[39m| 16813/50000 [00:00<00:00, 40577.37it/s]\u001b[0m\u001b[A\n",
      " 42%|\u001b[34m██████████████▏                   \u001b[39m| 20877/50000 [00:00<00:00, 39411.24it/s]\u001b[0m\u001b[A\n",
      " 50%|\u001b[34m████████████████▉                 \u001b[39m| 24826/50000 [00:00<00:00, 38152.99it/s]\u001b[0m\u001b[A\n",
      " 57%|\u001b[34m███████████████████▍              \u001b[39m| 28650/50000 [00:00<00:00, 38045.78it/s]\u001b[0m\u001b[A\n",
      " 66%|\u001b[34m██████████████████████▎           \u001b[39m| 32814/50000 [00:00<00:00, 39148.73it/s]\u001b[0m\u001b[A\n",
      " 73%|\u001b[34m████████████████████████▉         \u001b[39m| 36737/50000 [00:00<00:00, 38351.22it/s]\u001b[0m\u001b[A\n",
      " 82%|\u001b[34m███████████████████████████▊      \u001b[39m| 40961/50000 [00:01<00:00, 39513.09it/s]\u001b[0m\u001b[A\n",
      " 90%|\u001b[34m██████████████████████████████▌   \u001b[39m| 44921/50000 [00:01<00:00, 38704.72it/s]\u001b[0m\u001b[A\n",
      "100%|\u001b[34m██████████████████████████████████\u001b[39m| 50000/50000 [00:01<00:00, 38967.73it/s]\u001b[0m\u001b[A\n"
     ]
    },
    {
     "name": "stdout",
     "output_type": "stream",
     "text": [
      "\u001b[0;36;m finished Monto Carlo Strategy Weight Computation \u001b[0m\n"
     ]
    },
    {
     "name": "stderr",
     "output_type": "stream",
     "text": [
      "Computing20150102--20191231weights:  40%|\u001b[34m███▏    \u001b[39m| 4/10 [00:16<00:25,  4.18s/it]\u001b[0m"
     ]
    },
    {
     "name": "stdout",
     "output_type": "stream",
     "text": [
      "\u001b[0;36;m Complete Capital Market Line Plotting. \u001b[0m\n",
      "\u001b[0;36;m Start Calculation of Portfolio Weights Using the Strategy：\u001b[0m \u001b[0;34;m Monto Carlo Solve for the Maximum Sharpe Ratio \u001b[0m\n"
     ]
    },
    {
     "name": "stderr",
     "output_type": "stream",
     "text": [
      "\n",
      "  0%|\u001b[34m                                                 \u001b[39m| 0/50000 [00:00<?, ?it/s]\u001b[0m\u001b[A\n",
      "  8%|\u001b[34m██▊                                \u001b[39m| 4032/50000 [00:00<00:01, 40308.79it/s]\u001b[0m\u001b[A\n",
      " 17%|\u001b[34m█████▉                             \u001b[39m| 8412/50000 [00:00<00:00, 42358.79it/s]\u001b[0m\u001b[A\n",
      " 25%|\u001b[34m████████▌                         \u001b[39m| 12648/50000 [00:00<00:00, 41418.72it/s]\u001b[0m\u001b[A\n",
      " 34%|\u001b[34m███████████▍                      \u001b[39m| 16868/50000 [00:00<00:00, 41720.84it/s]\u001b[0m\u001b[A\n",
      " 43%|\u001b[34m██████████████▌                   \u001b[39m| 21384/50000 [00:00<00:00, 42947.07it/s]\u001b[0m\u001b[A\n",
      " 51%|\u001b[34m█████████████████▍                \u001b[39m| 25681/50000 [00:00<00:00, 41820.04it/s]\u001b[0m\u001b[A\n",
      " 60%|\u001b[34m████████████████████▎             \u001b[39m| 29870/50000 [00:00<00:00, 40154.29it/s]\u001b[0m\u001b[A\n",
      " 68%|\u001b[34m███████████████████████           \u001b[39m| 33900/50000 [00:00<00:00, 39058.38it/s]\u001b[0m\u001b[A\n",
      " 76%|\u001b[34m█████████████████████████▋        \u001b[39m| 37818/50000 [00:00<00:00, 38931.33it/s]\u001b[0m\u001b[A\n",
      " 83%|\u001b[34m████████████████████████████▎     \u001b[39m| 41719/50000 [00:01<00:00, 37915.34it/s]\u001b[0m\u001b[A\n",
      "100%|\u001b[34m██████████████████████████████████\u001b[39m| 50000/50000 [00:01<00:00, 40377.84it/s]\u001b[0m\u001b[A\n"
     ]
    },
    {
     "name": "stdout",
     "output_type": "stream",
     "text": [
      "\u001b[0;36;m finished Monto Carlo Strategy Weight Computation \u001b[0m\n"
     ]
    },
    {
     "name": "stderr",
     "output_type": "stream",
     "text": [
      "Computing20150701--20200630weights:  50%|\u001b[34m████    \u001b[39m| 5/10 [00:20<00:20,  4.13s/it]\u001b[0m"
     ]
    },
    {
     "name": "stdout",
     "output_type": "stream",
     "text": [
      "\u001b[0;36;m Complete Capital Market Line Plotting. \u001b[0m\n",
      "\u001b[0;36;m Start Calculation of Portfolio Weights Using the Strategy：\u001b[0m \u001b[0;34;m Monto Carlo Solve for the Maximum Sharpe Ratio \u001b[0m\n"
     ]
    },
    {
     "name": "stderr",
     "output_type": "stream",
     "text": [
      "\n",
      "  0%|\u001b[34m                                                 \u001b[39m| 0/50000 [00:00<?, ?it/s]\u001b[0m\u001b[A\n",
      "  8%|\u001b[34m██▊                                \u001b[39m| 3997/50000 [00:00<00:01, 39968.04it/s]\u001b[0m\u001b[A\n",
      " 16%|\u001b[34m█████▊                             \u001b[39m| 8235/50000 [00:00<00:01, 41381.49it/s]\u001b[0m\u001b[A\n",
      " 25%|\u001b[34m████████▍                         \u001b[39m| 12464/50000 [00:00<00:00, 41795.00it/s]\u001b[0m\u001b[A\n",
      " 33%|\u001b[34m███████████▎                      \u001b[39m| 16644/50000 [00:00<00:00, 39876.77it/s]\u001b[0m\u001b[A\n",
      " 41%|\u001b[34m██████████████                    \u001b[39m| 20645/50000 [00:00<00:00, 38827.24it/s]\u001b[0m\u001b[A\n",
      " 49%|\u001b[34m████████████████▋                 \u001b[39m| 24538/50000 [00:00<00:00, 38176.24it/s]\u001b[0m\u001b[A\n",
      " 57%|\u001b[34m███████████████████▎              \u001b[39m| 28363/50000 [00:00<00:00, 37805.66it/s]\u001b[0m\u001b[A\n",
      " 64%|\u001b[34m█████████████████████▊            \u001b[39m| 32148/50000 [00:00<00:00, 37628.50it/s]\u001b[0m\u001b[A\n",
      " 72%|\u001b[34m████████████████████████▍         \u001b[39m| 35913/50000 [00:00<00:00, 37396.58it/s]\u001b[0m\u001b[A\n",
      " 79%|\u001b[34m██████████████████████████▉       \u001b[39m| 39654/50000 [00:01<00:00, 37262.09it/s]\u001b[0m\u001b[A\n",
      " 87%|\u001b[34m█████████████████████████████▍    \u001b[39m| 43381/50000 [00:01<00:00, 37151.07it/s]\u001b[0m\u001b[A\n",
      "100%|\u001b[34m██████████████████████████████████\u001b[39m| 50000/50000 [00:01<00:00, 38895.52it/s]\u001b[0m\u001b[A\n"
     ]
    },
    {
     "name": "stdout",
     "output_type": "stream",
     "text": [
      "\u001b[0;36;m finished Monto Carlo Strategy Weight Computation \u001b[0m\n"
     ]
    },
    {
     "name": "stderr",
     "output_type": "stream",
     "text": [
      "Computing20160104--20201231weights:  60%|\u001b[34m████▊   \u001b[39m| 6/10 [00:24<00:16,  4.11s/it]\u001b[0m"
     ]
    },
    {
     "name": "stdout",
     "output_type": "stream",
     "text": [
      "\u001b[0;36;m Complete Capital Market Line Plotting. \u001b[0m\n",
      "\u001b[0;36;m Start Calculation of Portfolio Weights Using the Strategy：\u001b[0m \u001b[0;34;m Monto Carlo Solve for the Maximum Sharpe Ratio \u001b[0m\n"
     ]
    },
    {
     "name": "stderr",
     "output_type": "stream",
     "text": [
      "\n",
      "  0%|\u001b[34m                                                 \u001b[39m| 0/50000 [00:00<?, ?it/s]\u001b[0m\u001b[A\n",
      "  8%|\u001b[34m██▊                                \u001b[39m| 4044/50000 [00:00<00:01, 40432.42it/s]\u001b[0m\u001b[A\n",
      " 16%|\u001b[34m█████▋                             \u001b[39m| 8088/50000 [00:00<00:01, 39707.94it/s]\u001b[0m\u001b[A\n",
      " 25%|\u001b[34m████████▍                         \u001b[39m| 12415/50000 [00:00<00:00, 41315.66it/s]\u001b[0m\u001b[A\n",
      " 33%|\u001b[34m███████████▎                      \u001b[39m| 16549/50000 [00:00<00:00, 39526.65it/s]\u001b[0m\u001b[A\n",
      " 41%|\u001b[34m█████████████▉                    \u001b[39m| 20514/50000 [00:00<00:00, 38611.80it/s]\u001b[0m\u001b[A\n",
      " 49%|\u001b[34m████████████████▌                 \u001b[39m| 24384/50000 [00:00<00:00, 37925.44it/s]\u001b[0m\u001b[A\n",
      " 57%|\u001b[34m███████████████████▎              \u001b[39m| 28442/50000 [00:00<00:00, 38756.92it/s]\u001b[0m\u001b[A\n",
      " 65%|\u001b[34m█████████████████████▉            \u001b[39m| 32325/50000 [00:00<00:00, 37723.28it/s]\u001b[0m\u001b[A\n",
      " 73%|\u001b[34m████████████████████████▉         \u001b[39m| 36652/50000 [00:00<00:00, 39393.06it/s]\u001b[0m\u001b[A\n",
      " 81%|\u001b[34m███████████████████████████▋      \u001b[39m| 40674/50000 [00:01<00:00, 39639.49it/s]\u001b[0m\u001b[A\n",
      " 89%|\u001b[34m██████████████████████████████▎   \u001b[39m| 44647/50000 [00:01<00:00, 38783.68it/s]\u001b[0m\u001b[A\n",
      "100%|\u001b[34m██████████████████████████████████\u001b[39m| 50000/50000 [00:01<00:00, 38913.17it/s]\u001b[0m\u001b[A\n"
     ]
    },
    {
     "name": "stdout",
     "output_type": "stream",
     "text": [
      "\u001b[0;36;m finished Monto Carlo Strategy Weight Computation \u001b[0m\n"
     ]
    },
    {
     "name": "stderr",
     "output_type": "stream",
     "text": [
      "Computing20160701--20210630weights:  70%|\u001b[34m█████▌  \u001b[39m| 7/10 [00:28<00:12,  4.09s/it]\u001b[0m"
     ]
    },
    {
     "name": "stdout",
     "output_type": "stream",
     "text": [
      "\u001b[0;36;m Complete Capital Market Line Plotting. \u001b[0m\n",
      "\u001b[0;36;m Start Calculation of Portfolio Weights Using the Strategy：\u001b[0m \u001b[0;34;m Monto Carlo Solve for the Maximum Sharpe Ratio \u001b[0m\n"
     ]
    },
    {
     "name": "stderr",
     "output_type": "stream",
     "text": [
      "\n",
      "  0%|\u001b[34m                                                 \u001b[39m| 0/50000 [00:00<?, ?it/s]\u001b[0m\u001b[A\n",
      "  8%|\u001b[34m██▋                                \u001b[39m| 3825/50000 [00:00<00:01, 38245.75it/s]\u001b[0m\u001b[A\n",
      " 16%|\u001b[34m█████▌                             \u001b[39m| 8020/50000 [00:00<00:01, 40420.85it/s]\u001b[0m\u001b[A\n",
      " 25%|\u001b[34m████████▌                         \u001b[39m| 12599/50000 [00:00<00:00, 42868.43it/s]\u001b[0m\u001b[A\n",
      " 34%|\u001b[34m███████████▋                      \u001b[39m| 17145/50000 [00:00<00:00, 43890.43it/s]\u001b[0m\u001b[A\n",
      " 43%|\u001b[34m██████████████▋                   \u001b[39m| 21613/50000 [00:00<00:00, 44173.90it/s]\u001b[0m\u001b[A\n",
      " 52%|\u001b[34m█████████████████▊                \u001b[39m| 26127/50000 [00:00<00:00, 44500.09it/s]\u001b[0m\u001b[A\n",
      " 61%|\u001b[34m████████████████████▊             \u001b[39m| 30578/50000 [00:00<00:00, 38958.34it/s]\u001b[0m\u001b[A\n",
      " 69%|\u001b[34m███████████████████████▌          \u001b[39m| 34587/50000 [00:00<00:00, 31714.75it/s]\u001b[0m\u001b[A\n",
      " 78%|\u001b[34m██████████████████████████▍       \u001b[39m| 38819/50000 [00:01<00:00, 34373.01it/s]\u001b[0m\u001b[A\n",
      " 86%|\u001b[34m█████████████████████████████     \u001b[39m| 42762/50000 [00:01<00:00, 35705.15it/s]\u001b[0m\u001b[A\n",
      "100%|\u001b[34m██████████████████████████████████\u001b[39m| 50000/50000 [00:01<00:00, 38729.69it/s]\u001b[0m\u001b[A\n"
     ]
    },
    {
     "name": "stdout",
     "output_type": "stream",
     "text": [
      "\u001b[0;36;m finished Monto Carlo Strategy Weight Computation \u001b[0m\n"
     ]
    },
    {
     "name": "stderr",
     "output_type": "stream",
     "text": [
      "Computing20170103--20211231weights:  80%|\u001b[34m██████▍ \u001b[39m| 8/10 [00:32<00:08,  4.05s/it]\u001b[0m"
     ]
    },
    {
     "name": "stdout",
     "output_type": "stream",
     "text": [
      "\u001b[0;36;m Complete Capital Market Line Plotting. \u001b[0m\n",
      "\u001b[0;36;m Start Calculation of Portfolio Weights Using the Strategy：\u001b[0m \u001b[0;34;m Monto Carlo Solve for the Maximum Sharpe Ratio \u001b[0m\n"
     ]
    },
    {
     "name": "stderr",
     "output_type": "stream",
     "text": [
      "\n",
      "  0%|\u001b[34m                                                 \u001b[39m| 0/50000 [00:00<?, ?it/s]\u001b[0m\u001b[A\n",
      "  8%|\u001b[34m██▋                                \u001b[39m| 3885/50000 [00:00<00:01, 38847.63it/s]\u001b[0m\u001b[A\n",
      " 16%|\u001b[34m█████▍                             \u001b[39m| 7770/50000 [00:00<00:01, 37585.31it/s]\u001b[0m\u001b[A\n",
      " 23%|\u001b[34m███████▊                          \u001b[39m| 11532/50000 [00:00<00:01, 36236.90it/s]\u001b[0m\u001b[A\n",
      " 32%|\u001b[34m███████████                       \u001b[39m| 16224/50000 [00:00<00:00, 40311.06it/s]\u001b[0m\u001b[A\n",
      " 41%|\u001b[34m█████████████▊                    \u001b[39m| 20272/50000 [00:00<00:00, 39049.41it/s]\u001b[0m\u001b[A\n",
      " 48%|\u001b[34m████████████████▍                 \u001b[39m| 24193/50000 [00:00<00:00, 38268.16it/s]\u001b[0m\u001b[A\n",
      " 56%|\u001b[34m███████████████████               \u001b[39m| 28031/50000 [00:00<00:00, 37872.02it/s]\u001b[0m\u001b[A\n",
      " 64%|\u001b[34m█████████████████████▋            \u001b[39m| 31825/50000 [00:00<00:00, 37485.64it/s]\u001b[0m\u001b[A\n",
      " 71%|\u001b[34m████████████████████████▏         \u001b[39m| 35578/50000 [00:00<00:00, 37332.87it/s]\u001b[0m\u001b[A\n",
      " 79%|\u001b[34m██████████████████████████▋       \u001b[39m| 39314/50000 [00:01<00:00, 37054.67it/s]\u001b[0m\u001b[A\n",
      " 86%|\u001b[34m█████████████████████████████▎    \u001b[39m| 43021/50000 [00:01<00:00, 36974.30it/s]\u001b[0m\u001b[A\n",
      "100%|\u001b[34m██████████████████████████████████\u001b[39m| 50000/50000 [00:01<00:00, 37524.60it/s]\u001b[0m\u001b[A\n"
     ]
    },
    {
     "name": "stdout",
     "output_type": "stream",
     "text": [
      "\u001b[0;36;m finished Monto Carlo Strategy Weight Computation \u001b[0m\n"
     ]
    },
    {
     "name": "stderr",
     "output_type": "stream",
     "text": [
      "Computing20170703--20220630weights:  90%|\u001b[34m███████▏\u001b[39m| 9/10 [00:36<00:04,  4.07s/it]\u001b[0m"
     ]
    },
    {
     "name": "stdout",
     "output_type": "stream",
     "text": [
      "\u001b[0;36;m Complete Capital Market Line Plotting. \u001b[0m\n",
      "\u001b[0;36;m Start Calculation of Portfolio Weights Using the Strategy：\u001b[0m \u001b[0;34;m Monto Carlo Solve for the Maximum Sharpe Ratio \u001b[0m\n"
     ]
    },
    {
     "name": "stderr",
     "output_type": "stream",
     "text": [
      "\n",
      "  0%|\u001b[34m                                                 \u001b[39m| 0/50000 [00:00<?, ?it/s]\u001b[0m\u001b[A\n",
      "  8%|\u001b[34m██▋                                \u001b[39m| 3894/50000 [00:00<00:01, 38932.61it/s]\u001b[0m\u001b[A\n",
      " 16%|\u001b[34m█████▌                             \u001b[39m| 8018/50000 [00:00<00:01, 40283.88it/s]\u001b[0m\u001b[A\n",
      " 24%|\u001b[34m████████▏                         \u001b[39m| 12047/50000 [00:00<00:00, 39981.61it/s]\u001b[0m\u001b[A\n",
      " 32%|\u001b[34m██████████▉                       \u001b[39m| 16046/50000 [00:00<00:00, 38746.80it/s]\u001b[0m\u001b[A\n",
      " 40%|\u001b[34m█████████████▌                    \u001b[39m| 19926/50000 [00:00<00:00, 37992.02it/s]\u001b[0m\u001b[A\n",
      " 47%|\u001b[34m████████████████▏                 \u001b[39m| 23730/50000 [00:00<00:00, 37664.58it/s]\u001b[0m\u001b[A\n"
     ]
    }
   ],
   "source": [
    "class InvestmentStrategy:\n",
    "\n",
    "    @staticmethod\n",
    "    def process_data_x_matrix(datapath):\n",
    "        df_raw = pd.read_excel(datapath)\n",
    "        df_raw = df_raw.T\n",
    "        df_raw = df_raw.drop(index=['code'], columns=[0])\n",
    "        df_raw = df_raw.fillna(method='ffill')\n",
    "        df = df_raw.fillna(method='backfill')\n",
    "        return df\n",
    "\n",
    "    @staticmethod\n",
    "    def process_data_contain_sp500(datapath):\n",
    "        df_raw = pd.read_excel(datapath)\n",
    "        df_raw = df_raw.T\n",
    "        df_raw = df_raw.drop(index=['code'])\n",
    "        df_raw = df_raw.fillna(method='ffill')\n",
    "        df = df_raw.fillna(method='backfill')\n",
    "        return df\n",
    "\n",
    "    @staticmethod\n",
    "    def day_yield_compute(x_matrix):\n",
    "        day_yield = (x_matrix.shift(-1) - x_matrix) / x_matrix\n",
    "        return day_yield.iloc[:-1, :]\n",
    "\n",
    "    @staticmethod\n",
    "    def ex_vector_compute(x_matrix):\n",
    "        day_yield = (x_matrix.shift(-1) - x_matrix) / x_matrix\n",
    "        day_avg_yield = day_yield.mean().to_numpy()\n",
    "        return day_yield.iloc[:-1, :], day_avg_yield\n",
    "\n",
    "    @staticmethod\n",
    "    def ex_matrix_compute(x_matrix, ex_numpy_vector):\n",
    "        ex_np = np.repeat(np.expand_dims(ex_numpy_vector, axis=0), x_matrix.shape[0], axis=0)\n",
    "        ex_matrix = pd.DataFrame(ex_np, index=x_matrix.index, columns=x_matrix.columns)\n",
    "        return ex_matrix\n",
    "\n",
    "    @staticmethod\n",
    "    def cov_matrix_compute(x_ex_matrix):\n",
    "        return np.matmul(x_ex_matrix.T.to_numpy(), x_ex_matrix.to_numpy()) / (x_ex_matrix.shape[0] - 1)\n",
    "\n",
    "    def compute_weight(self, x_matrix, total_days=252, method=\"Markowitz\", starttime=0, endtime=0):\n",
    "        total_days_every_year = total_days / 5\n",
    "\n",
    "        day_yield_matrix, ex_numpy_vector = self.ex_vector_compute(x_matrix)\n",
    "        ex_matrix = self.ex_matrix_compute(day_yield_matrix, ex_numpy_vector)\n",
    "        x_ex_matrix = day_yield_matrix - ex_matrix\n",
    "        cov_matrix_numpy = self.cov_matrix_compute(x_ex_matrix)\n",
    "\n",
    "        # stocks_number = 50\n",
    "        n = STOCKS_NUMBER\n",
    "\n",
    "        one_matrix = np.ones((1, n))\n",
    "        \n",
    "        if method == \"Markowitz\":\n",
    "            print(\"\\033[0;36;m Initial Calculation of Portfolio Weights Using the Strategy：\\033[0m \\033[0;34;m Markowitz Portfolio \\033[0m\")\n",
    "            annual_yield_vector = ex_numpy_vector * total_days_every_year\n",
    "            w = cp.Variable(n)\n",
    "            prob = cp.Problem(cp.Minimize((1 / 2) * cp.quad_form(w, cov_matrix_numpy)),\n",
    "                              [annual_yield_vector.T @ w == EXPECTED_RETURN,\n",
    "                               one_matrix @ w == 1])\n",
    "            prob.solve()\n",
    "\n",
    "            print(\"\\033[0;36;m Complete Markowitz Portfolio Optimal Weight Quadratic Programming Solution with the Minimum Variance Value：\\033[0m \\033[0;34;m {} \\033[0m\".format(prob.value))\n",
    "\n",
    "            return w.value\n",
    "\n",
    "        r_p_list = []\n",
    "        sigma_p_list = []\n",
    "        sharpe_ratio_list = []\n",
    "        weight_list = []\n",
    "        if method == \"MontoCarlo\":\n",
    "            print(\"\\033[0;36;m Start Calculation of Portfolio Weights Using the Strategy：\\033[0m \\033[0;34;m Monto Carlo Solve for the Maximum Sharpe Ratio \\033[0m\")\n",
    "            np.random.seed(1)\n",
    "            risk_free_rate_day = RISK_FREE_RATE / total_days_every_year\n",
    "            bar = tqdm(list(range(int(MONTO_CARLO_TIMES))),\n",
    "                       bar_format='{l_bar}%s{bar}%s{r_bar}' % (Fore.BLUE, Fore.RESET))\n",
    "            for _ in bar:\n",
    "                weights = np.random.normal(1 / n, 1.0, n - 1)\n",
    "                weights_last = 1 - np.sum(weights)\n",
    "                weights = np.append(weights, weights_last)\n",
    "                weights_row_vector = np.expand_dims(weights, axis=0)\n",
    "                yield_avg_vector = np.expand_dims(ex_numpy_vector, axis=0)\n",
    "                sigma_p = np.sqrt(np.matmul(np.matmul(weights_row_vector, cov_matrix_numpy), weights_row_vector.T))[0][\n",
    "                    0]\n",
    "                r_p = np.matmul(weights_row_vector, yield_avg_vector.T)[0][0]\n",
    "\n",
    "                sharpe_ratio = (r_p - risk_free_rate_day) / sigma_p\n",
    "\n",
    "                r_p_list.append(r_p)\n",
    "                sigma_p_list.append(sigma_p)\n",
    "                sharpe_ratio_list.append(sharpe_ratio)\n",
    "                weight_list.append(weights)\n",
    "\n",
    "            r_p_list_numpy = np.array(r_p_list)\n",
    "            sigma_p_list_numpy = np.array(sigma_p_list)\n",
    "            sharpe_ratio_list_numpy = np.array(sharpe_ratio_list)\n",
    "            weight_list_numpy = np.array(weight_list)\n",
    "\n",
    "            # max sharpe ratio\n",
    "            max_sharpe_ratio = np.max(sharpe_ratio_list_numpy)\n",
    "            max_sharpe_ratio_index = np.argmax(sharpe_ratio_list_numpy)\n",
    "\n",
    "            # cov and mean\n",
    "            sigma_rp = [sigma_p_list_numpy[max_sharpe_ratio_index], r_p_list_numpy[max_sharpe_ratio_index]]\n",
    "\n",
    "            # alpha \n",
    "            alpha = (EXPECTED_RETURN / total_days_every_year - sigma_rp[1]) / (risk_free_rate_day - sigma_rp[1])\n",
    "            weight_list_numpy_opt_alpha = np.append(weight_list_numpy[max_sharpe_ratio_index], alpha)\n",
    "\n",
    "            print(\"\\033[0;36;m finished Monto Carlo Strategy Weight Computation \\033[0m\")\n",
    "            # plot fig\n",
    "            filename = os.path.join(os.getcwd(), 'images1')\n",
    "            if not os.path.exists(filename):\n",
    "                os.makedirs(filename)\n",
    "            plt.figure(figsize=(8, 6))\n",
    "            plt.style.use('seaborn-dark')\n",
    "            plt.rcParams['savefig.dpi'] = 300  \n",
    "            plt.rcParams['figure.dpi'] = 300  \n",
    "            plt.rcParams['axes.unicode_minus'] = False  \n",
    "\n",
    "            plt.scatter(sigma_p_list_numpy, r_p_list_numpy, c=r_p_list_numpy / sigma_p_list_numpy,\n",
    "                        marker='o', cmap='coolwarm')\n",
    "            plt.plot([0, sigma_rp[0]], [risk_free_rate_day, sigma_rp[1]], 'r')\n",
    "            \n",
    "            plt.annotate('max Sharpe ratio:{}'.format(max_sharpe_ratio), xy=sigma_rp)\n",
    "            plt.xlabel('Std. by Day')\n",
    "            plt.ylabel('Yield by Day')\n",
    "            plt.colorbar(label='Sharpe ratio')\n",
    "            plt.title(\"Monta Carlo Sampling No.{} times and Obtain CAL.\".format(MONTO_CARLO_TIMES))\n",
    "            plt.savefig(\"./images1/Montacarlo_CAL_{}_{}_{}\".format(MONTO_CARLO_TIMES, starttime, endtime), dpi=300)\n",
    "            print(\"\\033[0;36;m Complete Capital Market Line Plotting. \\033[0m\")\n",
    "            return weight_list_numpy_opt_alpha\n",
    "\n",
    "    @staticmethod\n",
    "    def get_six_month_map(x_matrix):\n",
    "        dfx = pd.DataFrame(x_matrix.index, columns=['time'])\n",
    "        dfx[\"year\"] = pd.to_datetime(pd.DataFrame(x_matrix.index, columns=['time'])['time'], format='%Y-%m-%d').dt.year\n",
    "        dfx[\"month\"] = pd.to_datetime(pd.DataFrame(x_matrix.index, columns=['time'])['time'],\n",
    "                                      format='%Y-%m-%d').dt.month\n",
    "\n",
    "        dfx['yearmonth'] = dfx.apply(lambda r: r['time'][:-2], axis=1)\n",
    "        dfx = dfx.drop_duplicates(['yearmonth'])\n",
    "\n",
    "        index_six_month = dfx[(dfx['month'] == 1) | (dfx['month'] == 7)].index.tolist()\n",
    "        index_slice = int(len(index_six_month) / 2)\n",
    "\n",
    "        compare_list1 = index_six_month[index_slice:]\n",
    "        compare_list2 = compare_list1[1:]\n",
    "        compare_list2.append(x_matrix.shape[0])\n",
    "        compare_list = list(zip(compare_list1, compare_list2))\n",
    "\n",
    "        six_map = {k: v for k, v in zip(index_six_month[index_slice:], index_six_month[:index_slice])}\n",
    "        return six_map, compare_list\n",
    "\n",
    "    def save_weights_markowitz(self):\n",
    "        x_matrix_total = self.process_data_x_matrix(DATAPATH)\n",
    "        six_map, compare_list = self.get_six_month_map(x_matrix_total)\n",
    "\n",
    "        weight_list = []\n",
    "        bar = tqdm(six_map.items(), bar_format='{l_bar}%s{bar}%s{r_bar}' % (Fore.BLUE, Fore.RESET))\n",
    "        for k, v in bar:\n",
    "            start_time = x_matrix_total.iloc[v:k, :].index[0]\n",
    "            end_time = x_matrix_total.iloc[v:k, :].index[-1]\n",
    "            bar.set_description(f\"Computing{start_time}--{end_time}weights\")\n",
    "            df_weight = x_matrix_total.iloc[v:k, :]\n",
    "            total_days = k - v\n",
    "            weight = self.compute_weight(df_weight, total_days)\n",
    "            weight_list.append(weight)\n",
    "        # save weight\n",
    "        filename = os.path.join(os.getcwd(), 'weights')\n",
    "        if not os.path.exists(filename):\n",
    "            os.makedirs(filename)\n",
    "        with open('./weights/weights_Markowitz.pickle', 'wb') as f:\n",
    "            pickle.dump(weight_list, f)\n",
    "        with open('./weights/weights_Markowitz.txt', 'w') as f2:\n",
    "            f2.write(str(weight_list))\n",
    "        print(\"\\033[0;36;m weight save completed \\033[0m\")\n",
    "\n",
    "    def save_weights_montocarlo(self):\n",
    "        x_matrix_total = self.process_data_x_matrix(DATAPATH)\n",
    "        six_map, compare_list = self.get_six_month_map(x_matrix_total)\n",
    "\n",
    "        weight_list = []\n",
    "        bar = tqdm(six_map.items(), bar_format='{l_bar}%s{bar}%s{r_bar}' % (Fore.BLUE, Fore.RESET))\n",
    "        for k, v in bar:\n",
    "            df_weight = x_matrix_total.iloc[v:k, :]\n",
    "            total_days = k - v\n",
    "            start_time = x_matrix_total.iloc[v:k, :].index[0]\n",
    "            end_time = x_matrix_total.iloc[v:k, :].index[-1]\n",
    "            bar.set_description(f\"Computing{start_time}--{end_time}weights\")\n",
    "\n",
    "            weight = self.compute_weight(df_weight, total_days, method=\"MontoCarlo\", starttime=start_time,\n",
    "                                         endtime=end_time)\n",
    "            weight_list.append(weight)\n",
    "        # save weight\n",
    "        filename = os.path.join(os.getcwd(), 'weights')\n",
    "        if not os.path.exists(filename):\n",
    "            os.makedirs(filename)\n",
    "        with open('./weights/weights_MontoCarlo.pickle', 'wb') as f:\n",
    "            pickle.dump(weight_list, f)\n",
    "        with open('./weights/weights_MontoCarlo.txt', 'w') as f2:\n",
    "            f2.write(str(weight_list))\n",
    "        print(\"\\033[0;36;m saved \\033[0m\")\n",
    "\n",
    "    def compare_performance(self, method=\"Markowitz\"):\n",
    "        print(\"\\033[0;36;m Start Comparison with S&P 500 Performance, Using the Comparison Strategy is \\033[0m \\033[0;34;m {} \\033[0m\".format(method))\n",
    "        total_compare_matrix = pd.DataFrame(columns=['SP500', 'Portfolio', \"Period\"])\n",
    "        total_compare_matrix_convert_one = pd.DataFrame(columns=['SP500', 'Portfolio', \"Period\"])\n",
    "        x_matrix_total_sp500 = self.process_data_contain_sp500(DATAPATH)\n",
    "        six_map, compare_list = self.get_six_month_map(x_matrix_total_sp500)\n",
    "        x_matrix_total_sp500_convert_one = x_matrix_total_sp500.div(x_matrix_total_sp500.iloc[compare_list[0][0]],\n",
    "                                                                    axis='columns')\n",
    "\n",
    "        if method == \"MontoCarlo_alpha0\":\n",
    "            with open('./weights/weights_{}.pickle'.format(\"MontoCarlo\"), 'rb') as f:\n",
    "                weight_list = pickle.load(f)\n",
    "        else:\n",
    "            with open('./weights/weights_{}.pickle'.format(method), 'rb') as f:\n",
    "                weight_list = pickle.load(f)\n",
    "\n",
    "        alpha = 0\n",
    "\n",
    "        for index, period in enumerate(compare_list):\n",
    "            if method == \"Markowitz\":\n",
    "                weights = weight_list[index]\n",
    "\n",
    "            elif method == \"MontoCarlo\":\n",
    "                weights = weight_list[index][:-1]\n",
    "                alpha = weight_list[index][-1]\n",
    "\n",
    "            elif method == \"MontoCarlo_alpha0\":\n",
    "                weights = weight_list[index][:-1]\n",
    "\n",
    "            if period[1] != x_matrix_total_sp500.shape[0]:\n",
    "                period_day_yield_matrix = x_matrix_total_sp500.iloc[period[0]:period[1] + 1, :]\n",
    "                period_day_matrix_convert_one = x_matrix_total_sp500_convert_one.iloc[period[0]:period[1] + 1, :]\n",
    "            else:\n",
    "                period_day_yield_matrix = x_matrix_total_sp500.iloc[period[0]:period[1], :]\n",
    "                period_day_matrix_convert_one = x_matrix_total_sp500_convert_one.iloc[period[0]:period[1], :]\n",
    "            day_yield_compare_matrix = self.day_yield_compute(period_day_yield_matrix)\n",
    "            period_day_matrix_convert_one = period_day_matrix_convert_one.iloc[:-1, :]\n",
    "            start_time = day_yield_compare_matrix.index[0]\n",
    "            end_time = day_yield_compare_matrix.index[-1]\n",
    "\n",
    "            weighted_day_yield = (1 - alpha) * (\n",
    "                np.matmul(day_yield_compare_matrix.iloc[:, 1:].to_numpy(), weights)) + alpha * RISK_FREE_RATE / 242\n",
    "            weighted_day_convert_one = np.matmul(period_day_matrix_convert_one.iloc[:, 1:].to_numpy(), weights)\n",
    "\n",
    "            day_yield_compare_matrix['Portfolio'] = pd.DataFrame(weighted_day_yield,\n",
    "                                                                 index=day_yield_compare_matrix.index)\n",
    "\n",
    "            period_day_matrix_convert_one['Portfolio'] = pd.DataFrame(weighted_day_convert_one,\n",
    "                                                                      index=day_yield_compare_matrix.index)\n",
    "            day_yield_compare_matrix.rename(columns={0: 'SP500'}, inplace=True)\n",
    "            period_day_matrix_convert_one.rename(columns={0: 'SP500'}, inplace=True)\n",
    "            period_series = pd.to_datetime(\n",
    "                pd.DataFrame(day_yield_compare_matrix.index, columns=['time'])['time'], format='%Y-%m-%d')\n",
    "            dict_data = {'time': period_series.values}\n",
    "\n",
    "            day_yield_compare_matrix[\"Period\"] = pd.DataFrame(dict_data, index=day_yield_compare_matrix.index)\n",
    "            period_day_matrix_convert_one[\"Period\"] = pd.DataFrame(dict_data, index=day_yield_compare_matrix.index)\n",
    "\n",
    "            #plot\n",
    "            sp500_mean = np.mean(day_yield_compare_matrix['SP500'].to_numpy())\n",
    "            portfolio_mean = np.mean(day_yield_compare_matrix['Portfolio'].to_numpy())\n",
    "            if sp500_mean < portfolio_mean:\n",
    "                win = 'Portfolio win!!!'\n",
    "            else:\n",
    "                win = 'S&P500 win!!!'\n",
    "            filename = os.path.join(os.getcwd(), 'compare')\n",
    "            if not os.path.exists(filename):\n",
    "                os.makedirs(filename)\n",
    "\n",
    "            with open('./compare/compare_{}.txt'.format(method), 'a') as f:\n",
    "                f.write(str(start_time) + \"--\" + str(end_time) + \"  \" + 'SP500: ' + str(\n",
    "                    sp500_mean) + \"--\" + 'Portfolio: ' + str(portfolio_mean) + \"---\" + win + '\\n')\n",
    "\n",
    "            print(\"\\033[0;36;m finished\\033[0m \\033[0;34;m{}--{}\\033[0m  \\033[0;36;m comparison... start to plot \\033[0m\".format(start_time,\n",
    "                                                                                                         end_time))\n",
    "            self.plot_performance_compare(day_yield_compare_matrix, start_time, end_time, method)\n",
    "            if index == 0:\n",
    "                total_compare_matrix = day_yield_compare_matrix\n",
    "                total_compare_matrix_convert_one = period_day_matrix_convert_one\n",
    "            else:\n",
    "                total_compare_matrix = pd.concat([total_compare_matrix, day_yield_compare_matrix])\n",
    "                total_compare_matrix_convert_one = pd.concat(\n",
    "                    [total_compare_matrix_convert_one, period_day_matrix_convert_one])\n",
    "\n",
    "        return total_compare_matrix, total_compare_matrix_convert_one\n",
    "\n",
    "    @staticmethod\n",
    "    def plot_performance_compare(yield_matrix, start_time, end_time, method, yield_rate=True):\n",
    "        sp500 = yield_matrix['SP500'].to_numpy()\n",
    "        portfolio = yield_matrix['Portfolio'].to_numpy()\n",
    "        period = yield_matrix[\"Period\"].to_numpy()\n",
    "        # plt.figure(figsize=(15, 9))\n",
    "        plt.style.use('seaborn-dark')\n",
    "\n",
    "        fig, ax = plt.subplots()\n",
    "\n",
    "        plt.rcParams['savefig.dpi'] = 300 \n",
    "        plt.rcParams['figure.dpi'] = 300  \n",
    "        plt.rcParams['axes.unicode_minus'] = False  \n",
    "        ax.plot(period, sp500, label='S&P500')\n",
    "        ax.plot(period, portfolio, label='portfolio')\n",
    "\n",
    "        if yield_rate:\n",
    "            ax.set(xlabel='Date', ylabel='Yield by Day',\n",
    "                   title=\"S&P500 and Portfolio by {}_{}-{}\".format(method, start_time, end_time))\n",
    "        else:\n",
    "            ax.set(xlabel='Date', ylabel='Asset Normalization',\n",
    "                   title=\"S&P500 and Portfolio by {}_{}-{}\".format(method, start_time, end_time))\n",
    "        ax.grid()\n",
    "        ax.legend()\n",
    "\n",
    "        filename = os.path.join(os.getcwd(), 'images1')\n",
    "        if not os.path.exists(filename):\n",
    "            os.makedirs(filename)\n",
    "        if yield_rate:\n",
    "            plt.savefig(\"./images1/Investment Return Comparison of S&P500 and Portfolio by {}_{}-{}\".format(method, start_time, end_time), dpi=300)\n",
    "        else:\n",
    "            plt.savefig(\"./images1/Investment Return Comparison of S&P500 and Portfolio by {}_{}-{}\".format(method, start_time, end_time), dpi=300)\n",
    "        plt.close()\n",
    "        # plt.show()\n",
    "\n",
    "\n",
    "if __name__ == '__main__':\n",
    "    matplotlib.use('Agg')\n",
    "\n",
    "    invent_strate = InvestmentStrategy()\n",
    "\n",
    "    # get_six_months_portfolio_weight\n",
    "    invent_strate.save_weights_markowitz()\n",
    "    invent_strate.save_weights_montocarlo()\n",
    "\n",
    "    # method = \"Markowitz\"\n",
    "    # method = \"MontoCarlo\"\n",
    "    # method = \"MontoCarlo_alpha0\"\n",
    "    for method in [\"Markowitz\", \"MontoCarlo\", \"MontoCarlo_alpha0\"]:\n",
    "        total_compare_yield_matrix, total_compare_matrix_convert_one = invent_strate.compare_performance(method=method)\n",
    "        sp500_mean_total = np.mean(total_compare_yield_matrix['SP500'].to_numpy())\n",
    "        portfolio_mean_total = np.mean(total_compare_yield_matrix['Portfolio'].to_numpy())\n",
    "        if sp500_mean_total < portfolio_mean_total:\n",
    "            win = 'Portfolio win!!!'\n",
    "        else:\n",
    "            win = 'S&P500 win!!!'\n",
    "\n",
    "        with open('./compare/compare_{}.txt'.format(method), 'a') as f:\n",
    "            f.write(\"Total Ave.：\" + str(20150105) + \"--\" + str(20191230) + \"  \" + 'SP500: ' + str(\n",
    "                sp500_mean_total) + \"--\" + 'Portfolio: ' + str(portfolio_mean_total) + \"---\" + win + '\\n')\n",
    "\n",
    "        \n",
    "        invent_strate.plot_performance_compare(total_compare_yield_matrix, 20150105, 20191230, method)\n",
    "        invent_strate.plot_performance_compare(total_compare_matrix_convert_one, 20150105, 20191230, method,\n",
    "                                               yield_rate=False)\n"
   ]
  },
  {
   "cell_type": "code",
   "execution_count": null,
   "id": "0ee99032",
   "metadata": {},
   "outputs": [],
   "source": []
  }
 ],
 "metadata": {
  "kernelspec": {
   "display_name": "Python 3 (ipykernel)",
   "language": "python",
   "name": "python3"
  },
  "language_info": {
   "codemirror_mode": {
    "name": "ipython",
    "version": 3
   },
   "file_extension": ".py",
   "mimetype": "text/x-python",
   "name": "python",
   "nbconvert_exporter": "python",
   "pygments_lexer": "ipython3",
   "version": "3.9.13"
  },
  "toc": {
   "base_numbering": 1,
   "nav_menu": {},
   "number_sections": true,
   "sideBar": true,
   "skip_h1_title": false,
   "title_cell": "Table of Contents",
   "title_sidebar": "Contents",
   "toc_cell": true,
   "toc_position": {
    "height": "calc(100% - 180px)",
    "left": "10px",
    "top": "150px",
    "width": "342px"
   },
   "toc_section_display": true,
   "toc_window_display": true
  }
 },
 "nbformat": 4,
 "nbformat_minor": 5
}
