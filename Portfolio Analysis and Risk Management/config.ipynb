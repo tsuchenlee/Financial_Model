{
 "cells": [
  {
   "cell_type": "markdown",
   "id": "e599ba55",
   "metadata": {
    "toc": true
   },
   "source": [
    "<h1>Table of Contents<span class=\"tocSkip\"></span></h1>\n",
    "<div class=\"toc\"><ul class=\"toc-item\"></ul></div>"
   ]
  },
  {
   "cell_type": "code",
   "execution_count": null,
   "id": "b1cbfc28",
   "metadata": {},
   "outputs": [],
   "source": [
    "RISK_FREE_RATE = 0.03\n",
    "DATAPATH = \"stock_price_data.xlsx\"\n",
    "EXPECTED_RETURN = 0.1\n",
    "STOCKS_NUMBER = 50\n",
    "# MONTO_CARLO_TIMES = int(5e5)\n",
    "MONTO_CARLO_TIMES = 50000\n",
    "\n",
    "# option\n",
    "K = 30\n",
    "S_0 = 30\n",
    "VOLATILITY = 0.35\n",
    "RISK_FREE_RATE_OPTION = 0.03\n",
    "EXPIRES_ANNUALIZE = 1\n",
    "M_STEP = 100"
   ]
  }
 ],
 "metadata": {
  "kernelspec": {
   "display_name": "Python 3 (ipykernel)",
   "language": "python",
   "name": "python3"
  },
  "language_info": {
   "codemirror_mode": {
    "name": "ipython",
    "version": 3
   },
   "file_extension": ".py",
   "mimetype": "text/x-python",
   "name": "python",
   "nbconvert_exporter": "python",
   "pygments_lexer": "ipython3",
   "version": "3.9.13"
  },
  "toc": {
   "base_numbering": 1,
   "nav_menu": {},
   "number_sections": true,
   "sideBar": true,
   "skip_h1_title": false,
   "title_cell": "Table of Contents",
   "title_sidebar": "Contents",
   "toc_cell": true,
   "toc_position": {},
   "toc_section_display": true,
   "toc_window_display": true
  }
 },
 "nbformat": 4,
 "nbformat_minor": 5
}
